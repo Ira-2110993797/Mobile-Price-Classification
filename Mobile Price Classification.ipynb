{
 "cells": [
  {
   "cell_type": "markdown",
   "id": "022f61f6",
   "metadata": {},
   "source": [
    "# Importing necessary libraries"
   ]
  },
  {
   "cell_type": "code",
   "execution_count": 1,
   "id": "5112d109",
   "metadata": {},
   "outputs": [],
   "source": [
    "import pandas as pd \n",
    "import numpy as np \n",
    "import seaborn as sns \n",
    "import matplotlib.pyplot as plt\n",
    "from sklearn.preprocessing import StandardScaler\n",
    "from sklearn.model_selection import train_test_split,GridSearchCV\n",
    "from sklearn.metrics import accuracy_score,confusion_matrix\n",
    "\n",
    "import warnings\n",
    "warnings.filterwarnings('ignore')"
   ]
  },
  {
   "cell_type": "markdown",
   "id": "0d317a8b",
   "metadata": {},
   "source": [
    "# Importing Dataset"
   ]
  },
  {
   "cell_type": "code",
   "execution_count": 3,
   "id": "d34e044c",
   "metadata": {},
   "outputs": [],
   "source": [
    "df = pd.read_csv('/Users/iragarg/Documents/Datasets/train.csv.xls')"
   ]
  },
  {
   "cell_type": "code",
   "execution_count": 4,
   "id": "6cbdc574",
   "metadata": {},
   "outputs": [
    {
     "data": {
      "text/html": [
       "<div>\n",
       "<style scoped>\n",
       "    .dataframe tbody tr th:only-of-type {\n",
       "        vertical-align: middle;\n",
       "    }\n",
       "\n",
       "    .dataframe tbody tr th {\n",
       "        vertical-align: top;\n",
       "    }\n",
       "\n",
       "    .dataframe thead th {\n",
       "        text-align: right;\n",
       "    }\n",
       "</style>\n",
       "<table border=\"1\" class=\"dataframe\">\n",
       "  <thead>\n",
       "    <tr style=\"text-align: right;\">\n",
       "      <th></th>\n",
       "      <th>battery_power</th>\n",
       "      <th>blue</th>\n",
       "      <th>clock_speed</th>\n",
       "      <th>dual_sim</th>\n",
       "      <th>fc</th>\n",
       "      <th>four_g</th>\n",
       "      <th>int_memory</th>\n",
       "      <th>m_dep</th>\n",
       "      <th>mobile_wt</th>\n",
       "      <th>n_cores</th>\n",
       "      <th>...</th>\n",
       "      <th>px_height</th>\n",
       "      <th>px_width</th>\n",
       "      <th>ram</th>\n",
       "      <th>sc_h</th>\n",
       "      <th>sc_w</th>\n",
       "      <th>talk_time</th>\n",
       "      <th>three_g</th>\n",
       "      <th>touch_screen</th>\n",
       "      <th>wifi</th>\n",
       "      <th>price_range</th>\n",
       "    </tr>\n",
       "  </thead>\n",
       "  <tbody>\n",
       "    <tr>\n",
       "      <th>0</th>\n",
       "      <td>842</td>\n",
       "      <td>0</td>\n",
       "      <td>2.2</td>\n",
       "      <td>0</td>\n",
       "      <td>1</td>\n",
       "      <td>0</td>\n",
       "      <td>7</td>\n",
       "      <td>0.6</td>\n",
       "      <td>188</td>\n",
       "      <td>2</td>\n",
       "      <td>...</td>\n",
       "      <td>20</td>\n",
       "      <td>756</td>\n",
       "      <td>2549</td>\n",
       "      <td>9</td>\n",
       "      <td>7</td>\n",
       "      <td>19</td>\n",
       "      <td>0</td>\n",
       "      <td>0</td>\n",
       "      <td>1</td>\n",
       "      <td>1</td>\n",
       "    </tr>\n",
       "    <tr>\n",
       "      <th>1</th>\n",
       "      <td>1021</td>\n",
       "      <td>1</td>\n",
       "      <td>0.5</td>\n",
       "      <td>1</td>\n",
       "      <td>0</td>\n",
       "      <td>1</td>\n",
       "      <td>53</td>\n",
       "      <td>0.7</td>\n",
       "      <td>136</td>\n",
       "      <td>3</td>\n",
       "      <td>...</td>\n",
       "      <td>905</td>\n",
       "      <td>1988</td>\n",
       "      <td>2631</td>\n",
       "      <td>17</td>\n",
       "      <td>3</td>\n",
       "      <td>7</td>\n",
       "      <td>1</td>\n",
       "      <td>1</td>\n",
       "      <td>0</td>\n",
       "      <td>2</td>\n",
       "    </tr>\n",
       "    <tr>\n",
       "      <th>2</th>\n",
       "      <td>563</td>\n",
       "      <td>1</td>\n",
       "      <td>0.5</td>\n",
       "      <td>1</td>\n",
       "      <td>2</td>\n",
       "      <td>1</td>\n",
       "      <td>41</td>\n",
       "      <td>0.9</td>\n",
       "      <td>145</td>\n",
       "      <td>5</td>\n",
       "      <td>...</td>\n",
       "      <td>1263</td>\n",
       "      <td>1716</td>\n",
       "      <td>2603</td>\n",
       "      <td>11</td>\n",
       "      <td>2</td>\n",
       "      <td>9</td>\n",
       "      <td>1</td>\n",
       "      <td>1</td>\n",
       "      <td>0</td>\n",
       "      <td>2</td>\n",
       "    </tr>\n",
       "    <tr>\n",
       "      <th>3</th>\n",
       "      <td>615</td>\n",
       "      <td>1</td>\n",
       "      <td>2.5</td>\n",
       "      <td>0</td>\n",
       "      <td>0</td>\n",
       "      <td>0</td>\n",
       "      <td>10</td>\n",
       "      <td>0.8</td>\n",
       "      <td>131</td>\n",
       "      <td>6</td>\n",
       "      <td>...</td>\n",
       "      <td>1216</td>\n",
       "      <td>1786</td>\n",
       "      <td>2769</td>\n",
       "      <td>16</td>\n",
       "      <td>8</td>\n",
       "      <td>11</td>\n",
       "      <td>1</td>\n",
       "      <td>0</td>\n",
       "      <td>0</td>\n",
       "      <td>2</td>\n",
       "    </tr>\n",
       "    <tr>\n",
       "      <th>4</th>\n",
       "      <td>1821</td>\n",
       "      <td>1</td>\n",
       "      <td>1.2</td>\n",
       "      <td>0</td>\n",
       "      <td>13</td>\n",
       "      <td>1</td>\n",
       "      <td>44</td>\n",
       "      <td>0.6</td>\n",
       "      <td>141</td>\n",
       "      <td>2</td>\n",
       "      <td>...</td>\n",
       "      <td>1208</td>\n",
       "      <td>1212</td>\n",
       "      <td>1411</td>\n",
       "      <td>8</td>\n",
       "      <td>2</td>\n",
       "      <td>15</td>\n",
       "      <td>1</td>\n",
       "      <td>1</td>\n",
       "      <td>0</td>\n",
       "      <td>1</td>\n",
       "    </tr>\n",
       "  </tbody>\n",
       "</table>\n",
       "<p>5 rows × 21 columns</p>\n",
       "</div>"
      ],
      "text/plain": [
       "   battery_power  blue  clock_speed  dual_sim  fc  four_g  int_memory  m_dep  \\\n",
       "0            842     0          2.2         0   1       0           7    0.6   \n",
       "1           1021     1          0.5         1   0       1          53    0.7   \n",
       "2            563     1          0.5         1   2       1          41    0.9   \n",
       "3            615     1          2.5         0   0       0          10    0.8   \n",
       "4           1821     1          1.2         0  13       1          44    0.6   \n",
       "\n",
       "   mobile_wt  n_cores  ...  px_height  px_width   ram  sc_h  sc_w  talk_time  \\\n",
       "0        188        2  ...         20       756  2549     9     7         19   \n",
       "1        136        3  ...        905      1988  2631    17     3          7   \n",
       "2        145        5  ...       1263      1716  2603    11     2          9   \n",
       "3        131        6  ...       1216      1786  2769    16     8         11   \n",
       "4        141        2  ...       1208      1212  1411     8     2         15   \n",
       "\n",
       "   three_g  touch_screen  wifi  price_range  \n",
       "0        0             0     1            1  \n",
       "1        1             1     0            2  \n",
       "2        1             1     0            2  \n",
       "3        1             0     0            2  \n",
       "4        1             1     0            1  \n",
       "\n",
       "[5 rows x 21 columns]"
      ]
     },
     "execution_count": 4,
     "metadata": {},
     "output_type": "execute_result"
    }
   ],
   "source": [
    "df.head()"
   ]
  },
  {
   "cell_type": "markdown",
   "id": "0c928e40",
   "metadata": {},
   "source": [
    "# Data Pre-processing"
   ]
  },
  {
   "cell_type": "code",
   "execution_count": 5,
   "id": "4a10381e",
   "metadata": {},
   "outputs": [
    {
     "data": {
      "text/plain": [
       "(2000, 21)"
      ]
     },
     "execution_count": 5,
     "metadata": {},
     "output_type": "execute_result"
    }
   ],
   "source": [
    "df.shape"
   ]
  },
  {
   "cell_type": "code",
   "execution_count": 6,
   "id": "de96efc8",
   "metadata": {},
   "outputs": [
    {
     "data": {
      "text/plain": [
       "battery_power      int64\n",
       "blue               int64\n",
       "clock_speed      float64\n",
       "dual_sim           int64\n",
       "fc                 int64\n",
       "four_g             int64\n",
       "int_memory         int64\n",
       "m_dep            float64\n",
       "mobile_wt          int64\n",
       "n_cores            int64\n",
       "pc                 int64\n",
       "px_height          int64\n",
       "px_width           int64\n",
       "ram                int64\n",
       "sc_h               int64\n",
       "sc_w               int64\n",
       "talk_time          int64\n",
       "three_g            int64\n",
       "touch_screen       int64\n",
       "wifi               int64\n",
       "price_range        int64\n",
       "dtype: object"
      ]
     },
     "execution_count": 6,
     "metadata": {},
     "output_type": "execute_result"
    }
   ],
   "source": [
    "df.dtypes"
   ]
  },
  {
   "cell_type": "code",
   "execution_count": 7,
   "id": "5c32303a",
   "metadata": {},
   "outputs": [
    {
     "name": "stdout",
     "output_type": "stream",
     "text": [
      "<class 'pandas.core.frame.DataFrame'>\n",
      "RangeIndex: 2000 entries, 0 to 1999\n",
      "Data columns (total 21 columns):\n",
      " #   Column         Non-Null Count  Dtype  \n",
      "---  ------         --------------  -----  \n",
      " 0   battery_power  2000 non-null   int64  \n",
      " 1   blue           2000 non-null   int64  \n",
      " 2   clock_speed    2000 non-null   float64\n",
      " 3   dual_sim       2000 non-null   int64  \n",
      " 4   fc             2000 non-null   int64  \n",
      " 5   four_g         2000 non-null   int64  \n",
      " 6   int_memory     2000 non-null   int64  \n",
      " 7   m_dep          2000 non-null   float64\n",
      " 8   mobile_wt      2000 non-null   int64  \n",
      " 9   n_cores        2000 non-null   int64  \n",
      " 10  pc             2000 non-null   int64  \n",
      " 11  px_height      2000 non-null   int64  \n",
      " 12  px_width       2000 non-null   int64  \n",
      " 13  ram            2000 non-null   int64  \n",
      " 14  sc_h           2000 non-null   int64  \n",
      " 15  sc_w           2000 non-null   int64  \n",
      " 16  talk_time      2000 non-null   int64  \n",
      " 17  three_g        2000 non-null   int64  \n",
      " 18  touch_screen   2000 non-null   int64  \n",
      " 19  wifi           2000 non-null   int64  \n",
      " 20  price_range    2000 non-null   int64  \n",
      "dtypes: float64(2), int64(19)\n",
      "memory usage: 328.2 KB\n"
     ]
    }
   ],
   "source": [
    "df.info()"
   ]
  },
  {
   "cell_type": "code",
   "execution_count": 8,
   "id": "ca6b5466",
   "metadata": {},
   "outputs": [
    {
     "data": {
      "text/html": [
       "<div>\n",
       "<style scoped>\n",
       "    .dataframe tbody tr th:only-of-type {\n",
       "        vertical-align: middle;\n",
       "    }\n",
       "\n",
       "    .dataframe tbody tr th {\n",
       "        vertical-align: top;\n",
       "    }\n",
       "\n",
       "    .dataframe thead th {\n",
       "        text-align: right;\n",
       "    }\n",
       "</style>\n",
       "<table border=\"1\" class=\"dataframe\">\n",
       "  <thead>\n",
       "    <tr style=\"text-align: right;\">\n",
       "      <th></th>\n",
       "      <th>battery_power</th>\n",
       "      <th>blue</th>\n",
       "      <th>clock_speed</th>\n",
       "      <th>dual_sim</th>\n",
       "      <th>fc</th>\n",
       "      <th>four_g</th>\n",
       "      <th>int_memory</th>\n",
       "      <th>m_dep</th>\n",
       "      <th>mobile_wt</th>\n",
       "      <th>n_cores</th>\n",
       "      <th>...</th>\n",
       "      <th>px_height</th>\n",
       "      <th>px_width</th>\n",
       "      <th>ram</th>\n",
       "      <th>sc_h</th>\n",
       "      <th>sc_w</th>\n",
       "      <th>talk_time</th>\n",
       "      <th>three_g</th>\n",
       "      <th>touch_screen</th>\n",
       "      <th>wifi</th>\n",
       "      <th>price_range</th>\n",
       "    </tr>\n",
       "  </thead>\n",
       "  <tbody>\n",
       "    <tr>\n",
       "      <th>count</th>\n",
       "      <td>2000.000000</td>\n",
       "      <td>2000.0000</td>\n",
       "      <td>2000.000000</td>\n",
       "      <td>2000.000000</td>\n",
       "      <td>2000.000000</td>\n",
       "      <td>2000.000000</td>\n",
       "      <td>2000.000000</td>\n",
       "      <td>2000.000000</td>\n",
       "      <td>2000.000000</td>\n",
       "      <td>2000.000000</td>\n",
       "      <td>...</td>\n",
       "      <td>2000.000000</td>\n",
       "      <td>2000.000000</td>\n",
       "      <td>2000.000000</td>\n",
       "      <td>2000.000000</td>\n",
       "      <td>2000.000000</td>\n",
       "      <td>2000.000000</td>\n",
       "      <td>2000.000000</td>\n",
       "      <td>2000.000000</td>\n",
       "      <td>2000.000000</td>\n",
       "      <td>2000.000000</td>\n",
       "    </tr>\n",
       "    <tr>\n",
       "      <th>mean</th>\n",
       "      <td>1238.518500</td>\n",
       "      <td>0.4950</td>\n",
       "      <td>1.522250</td>\n",
       "      <td>0.509500</td>\n",
       "      <td>4.309500</td>\n",
       "      <td>0.521500</td>\n",
       "      <td>32.046500</td>\n",
       "      <td>0.501750</td>\n",
       "      <td>140.249000</td>\n",
       "      <td>4.520500</td>\n",
       "      <td>...</td>\n",
       "      <td>645.108000</td>\n",
       "      <td>1251.515500</td>\n",
       "      <td>2124.213000</td>\n",
       "      <td>12.306500</td>\n",
       "      <td>5.767000</td>\n",
       "      <td>11.011000</td>\n",
       "      <td>0.761500</td>\n",
       "      <td>0.503000</td>\n",
       "      <td>0.507000</td>\n",
       "      <td>1.500000</td>\n",
       "    </tr>\n",
       "    <tr>\n",
       "      <th>std</th>\n",
       "      <td>439.418206</td>\n",
       "      <td>0.5001</td>\n",
       "      <td>0.816004</td>\n",
       "      <td>0.500035</td>\n",
       "      <td>4.341444</td>\n",
       "      <td>0.499662</td>\n",
       "      <td>18.145715</td>\n",
       "      <td>0.288416</td>\n",
       "      <td>35.399655</td>\n",
       "      <td>2.287837</td>\n",
       "      <td>...</td>\n",
       "      <td>443.780811</td>\n",
       "      <td>432.199447</td>\n",
       "      <td>1084.732044</td>\n",
       "      <td>4.213245</td>\n",
       "      <td>4.356398</td>\n",
       "      <td>5.463955</td>\n",
       "      <td>0.426273</td>\n",
       "      <td>0.500116</td>\n",
       "      <td>0.500076</td>\n",
       "      <td>1.118314</td>\n",
       "    </tr>\n",
       "    <tr>\n",
       "      <th>min</th>\n",
       "      <td>501.000000</td>\n",
       "      <td>0.0000</td>\n",
       "      <td>0.500000</td>\n",
       "      <td>0.000000</td>\n",
       "      <td>0.000000</td>\n",
       "      <td>0.000000</td>\n",
       "      <td>2.000000</td>\n",
       "      <td>0.100000</td>\n",
       "      <td>80.000000</td>\n",
       "      <td>1.000000</td>\n",
       "      <td>...</td>\n",
       "      <td>0.000000</td>\n",
       "      <td>500.000000</td>\n",
       "      <td>256.000000</td>\n",
       "      <td>5.000000</td>\n",
       "      <td>0.000000</td>\n",
       "      <td>2.000000</td>\n",
       "      <td>0.000000</td>\n",
       "      <td>0.000000</td>\n",
       "      <td>0.000000</td>\n",
       "      <td>0.000000</td>\n",
       "    </tr>\n",
       "    <tr>\n",
       "      <th>25%</th>\n",
       "      <td>851.750000</td>\n",
       "      <td>0.0000</td>\n",
       "      <td>0.700000</td>\n",
       "      <td>0.000000</td>\n",
       "      <td>1.000000</td>\n",
       "      <td>0.000000</td>\n",
       "      <td>16.000000</td>\n",
       "      <td>0.200000</td>\n",
       "      <td>109.000000</td>\n",
       "      <td>3.000000</td>\n",
       "      <td>...</td>\n",
       "      <td>282.750000</td>\n",
       "      <td>874.750000</td>\n",
       "      <td>1207.500000</td>\n",
       "      <td>9.000000</td>\n",
       "      <td>2.000000</td>\n",
       "      <td>6.000000</td>\n",
       "      <td>1.000000</td>\n",
       "      <td>0.000000</td>\n",
       "      <td>0.000000</td>\n",
       "      <td>0.750000</td>\n",
       "    </tr>\n",
       "    <tr>\n",
       "      <th>50%</th>\n",
       "      <td>1226.000000</td>\n",
       "      <td>0.0000</td>\n",
       "      <td>1.500000</td>\n",
       "      <td>1.000000</td>\n",
       "      <td>3.000000</td>\n",
       "      <td>1.000000</td>\n",
       "      <td>32.000000</td>\n",
       "      <td>0.500000</td>\n",
       "      <td>141.000000</td>\n",
       "      <td>4.000000</td>\n",
       "      <td>...</td>\n",
       "      <td>564.000000</td>\n",
       "      <td>1247.000000</td>\n",
       "      <td>2146.500000</td>\n",
       "      <td>12.000000</td>\n",
       "      <td>5.000000</td>\n",
       "      <td>11.000000</td>\n",
       "      <td>1.000000</td>\n",
       "      <td>1.000000</td>\n",
       "      <td>1.000000</td>\n",
       "      <td>1.500000</td>\n",
       "    </tr>\n",
       "    <tr>\n",
       "      <th>75%</th>\n",
       "      <td>1615.250000</td>\n",
       "      <td>1.0000</td>\n",
       "      <td>2.200000</td>\n",
       "      <td>1.000000</td>\n",
       "      <td>7.000000</td>\n",
       "      <td>1.000000</td>\n",
       "      <td>48.000000</td>\n",
       "      <td>0.800000</td>\n",
       "      <td>170.000000</td>\n",
       "      <td>7.000000</td>\n",
       "      <td>...</td>\n",
       "      <td>947.250000</td>\n",
       "      <td>1633.000000</td>\n",
       "      <td>3064.500000</td>\n",
       "      <td>16.000000</td>\n",
       "      <td>9.000000</td>\n",
       "      <td>16.000000</td>\n",
       "      <td>1.000000</td>\n",
       "      <td>1.000000</td>\n",
       "      <td>1.000000</td>\n",
       "      <td>2.250000</td>\n",
       "    </tr>\n",
       "    <tr>\n",
       "      <th>max</th>\n",
       "      <td>1998.000000</td>\n",
       "      <td>1.0000</td>\n",
       "      <td>3.000000</td>\n",
       "      <td>1.000000</td>\n",
       "      <td>19.000000</td>\n",
       "      <td>1.000000</td>\n",
       "      <td>64.000000</td>\n",
       "      <td>1.000000</td>\n",
       "      <td>200.000000</td>\n",
       "      <td>8.000000</td>\n",
       "      <td>...</td>\n",
       "      <td>1960.000000</td>\n",
       "      <td>1998.000000</td>\n",
       "      <td>3998.000000</td>\n",
       "      <td>19.000000</td>\n",
       "      <td>18.000000</td>\n",
       "      <td>20.000000</td>\n",
       "      <td>1.000000</td>\n",
       "      <td>1.000000</td>\n",
       "      <td>1.000000</td>\n",
       "      <td>3.000000</td>\n",
       "    </tr>\n",
       "  </tbody>\n",
       "</table>\n",
       "<p>8 rows × 21 columns</p>\n",
       "</div>"
      ],
      "text/plain": [
       "       battery_power       blue  clock_speed     dual_sim           fc  \\\n",
       "count    2000.000000  2000.0000  2000.000000  2000.000000  2000.000000   \n",
       "mean     1238.518500     0.4950     1.522250     0.509500     4.309500   \n",
       "std       439.418206     0.5001     0.816004     0.500035     4.341444   \n",
       "min       501.000000     0.0000     0.500000     0.000000     0.000000   \n",
       "25%       851.750000     0.0000     0.700000     0.000000     1.000000   \n",
       "50%      1226.000000     0.0000     1.500000     1.000000     3.000000   \n",
       "75%      1615.250000     1.0000     2.200000     1.000000     7.000000   \n",
       "max      1998.000000     1.0000     3.000000     1.000000    19.000000   \n",
       "\n",
       "            four_g   int_memory        m_dep    mobile_wt      n_cores  ...  \\\n",
       "count  2000.000000  2000.000000  2000.000000  2000.000000  2000.000000  ...   \n",
       "mean      0.521500    32.046500     0.501750   140.249000     4.520500  ...   \n",
       "std       0.499662    18.145715     0.288416    35.399655     2.287837  ...   \n",
       "min       0.000000     2.000000     0.100000    80.000000     1.000000  ...   \n",
       "25%       0.000000    16.000000     0.200000   109.000000     3.000000  ...   \n",
       "50%       1.000000    32.000000     0.500000   141.000000     4.000000  ...   \n",
       "75%       1.000000    48.000000     0.800000   170.000000     7.000000  ...   \n",
       "max       1.000000    64.000000     1.000000   200.000000     8.000000  ...   \n",
       "\n",
       "         px_height     px_width          ram         sc_h         sc_w  \\\n",
       "count  2000.000000  2000.000000  2000.000000  2000.000000  2000.000000   \n",
       "mean    645.108000  1251.515500  2124.213000    12.306500     5.767000   \n",
       "std     443.780811   432.199447  1084.732044     4.213245     4.356398   \n",
       "min       0.000000   500.000000   256.000000     5.000000     0.000000   \n",
       "25%     282.750000   874.750000  1207.500000     9.000000     2.000000   \n",
       "50%     564.000000  1247.000000  2146.500000    12.000000     5.000000   \n",
       "75%     947.250000  1633.000000  3064.500000    16.000000     9.000000   \n",
       "max    1960.000000  1998.000000  3998.000000    19.000000    18.000000   \n",
       "\n",
       "         talk_time      three_g  touch_screen         wifi  price_range  \n",
       "count  2000.000000  2000.000000   2000.000000  2000.000000  2000.000000  \n",
       "mean     11.011000     0.761500      0.503000     0.507000     1.500000  \n",
       "std       5.463955     0.426273      0.500116     0.500076     1.118314  \n",
       "min       2.000000     0.000000      0.000000     0.000000     0.000000  \n",
       "25%       6.000000     1.000000      0.000000     0.000000     0.750000  \n",
       "50%      11.000000     1.000000      1.000000     1.000000     1.500000  \n",
       "75%      16.000000     1.000000      1.000000     1.000000     2.250000  \n",
       "max      20.000000     1.000000      1.000000     1.000000     3.000000  \n",
       "\n",
       "[8 rows x 21 columns]"
      ]
     },
     "execution_count": 8,
     "metadata": {},
     "output_type": "execute_result"
    }
   ],
   "source": [
    "df.describe()"
   ]
  },
  {
   "cell_type": "code",
   "execution_count": 9,
   "id": "43e6e9e3",
   "metadata": {},
   "outputs": [
    {
     "data": {
      "text/plain": [
       "battery_power    0\n",
       "blue             0\n",
       "clock_speed      0\n",
       "dual_sim         0\n",
       "fc               0\n",
       "four_g           0\n",
       "int_memory       0\n",
       "m_dep            0\n",
       "mobile_wt        0\n",
       "n_cores          0\n",
       "pc               0\n",
       "px_height        0\n",
       "px_width         0\n",
       "ram              0\n",
       "sc_h             0\n",
       "sc_w             0\n",
       "talk_time        0\n",
       "three_g          0\n",
       "touch_screen     0\n",
       "wifi             0\n",
       "price_range      0\n",
       "dtype: int64"
      ]
     },
     "execution_count": 9,
     "metadata": {},
     "output_type": "execute_result"
    }
   ],
   "source": [
    "df.isnull().sum()"
   ]
  },
  {
   "cell_type": "code",
   "execution_count": 10,
   "id": "02adedce",
   "metadata": {},
   "outputs": [],
   "source": [
    "df.drop([\"clock_speed\"], axis = 1, inplace = True)\n",
    "df.drop([\"fc\"], axis = 1, inplace = True)\n",
    "df.drop([\"talk_time\"], axis = 1, inplace = True)\n",
    "df.drop([\"pc\"], axis = 1, inplace = True)"
   ]
  },
  {
   "cell_type": "code",
   "execution_count": 11,
   "id": "c755c24c",
   "metadata": {},
   "outputs": [],
   "source": [
    "df.drop([\"blue\"], axis = 1, inplace = True)"
   ]
  },
  {
   "cell_type": "code",
   "execution_count": 12,
   "id": "add4f0cb",
   "metadata": {},
   "outputs": [
    {
     "data": {
      "text/html": [
       "<div>\n",
       "<style scoped>\n",
       "    .dataframe tbody tr th:only-of-type {\n",
       "        vertical-align: middle;\n",
       "    }\n",
       "\n",
       "    .dataframe tbody tr th {\n",
       "        vertical-align: top;\n",
       "    }\n",
       "\n",
       "    .dataframe thead th {\n",
       "        text-align: right;\n",
       "    }\n",
       "</style>\n",
       "<table border=\"1\" class=\"dataframe\">\n",
       "  <thead>\n",
       "    <tr style=\"text-align: right;\">\n",
       "      <th></th>\n",
       "      <th>battery_power</th>\n",
       "      <th>dual_sim</th>\n",
       "      <th>four_g</th>\n",
       "      <th>int_memory</th>\n",
       "      <th>m_dep</th>\n",
       "      <th>mobile_wt</th>\n",
       "      <th>n_cores</th>\n",
       "      <th>px_height</th>\n",
       "      <th>px_width</th>\n",
       "      <th>ram</th>\n",
       "      <th>sc_h</th>\n",
       "      <th>sc_w</th>\n",
       "      <th>three_g</th>\n",
       "      <th>touch_screen</th>\n",
       "      <th>wifi</th>\n",
       "      <th>price_range</th>\n",
       "    </tr>\n",
       "  </thead>\n",
       "  <tbody>\n",
       "    <tr>\n",
       "      <th>0</th>\n",
       "      <td>842</td>\n",
       "      <td>0</td>\n",
       "      <td>0</td>\n",
       "      <td>7</td>\n",
       "      <td>0.6</td>\n",
       "      <td>188</td>\n",
       "      <td>2</td>\n",
       "      <td>20</td>\n",
       "      <td>756</td>\n",
       "      <td>2549</td>\n",
       "      <td>9</td>\n",
       "      <td>7</td>\n",
       "      <td>0</td>\n",
       "      <td>0</td>\n",
       "      <td>1</td>\n",
       "      <td>1</td>\n",
       "    </tr>\n",
       "    <tr>\n",
       "      <th>1</th>\n",
       "      <td>1021</td>\n",
       "      <td>1</td>\n",
       "      <td>1</td>\n",
       "      <td>53</td>\n",
       "      <td>0.7</td>\n",
       "      <td>136</td>\n",
       "      <td>3</td>\n",
       "      <td>905</td>\n",
       "      <td>1988</td>\n",
       "      <td>2631</td>\n",
       "      <td>17</td>\n",
       "      <td>3</td>\n",
       "      <td>1</td>\n",
       "      <td>1</td>\n",
       "      <td>0</td>\n",
       "      <td>2</td>\n",
       "    </tr>\n",
       "    <tr>\n",
       "      <th>2</th>\n",
       "      <td>563</td>\n",
       "      <td>1</td>\n",
       "      <td>1</td>\n",
       "      <td>41</td>\n",
       "      <td>0.9</td>\n",
       "      <td>145</td>\n",
       "      <td>5</td>\n",
       "      <td>1263</td>\n",
       "      <td>1716</td>\n",
       "      <td>2603</td>\n",
       "      <td>11</td>\n",
       "      <td>2</td>\n",
       "      <td>1</td>\n",
       "      <td>1</td>\n",
       "      <td>0</td>\n",
       "      <td>2</td>\n",
       "    </tr>\n",
       "    <tr>\n",
       "      <th>3</th>\n",
       "      <td>615</td>\n",
       "      <td>0</td>\n",
       "      <td>0</td>\n",
       "      <td>10</td>\n",
       "      <td>0.8</td>\n",
       "      <td>131</td>\n",
       "      <td>6</td>\n",
       "      <td>1216</td>\n",
       "      <td>1786</td>\n",
       "      <td>2769</td>\n",
       "      <td>16</td>\n",
       "      <td>8</td>\n",
       "      <td>1</td>\n",
       "      <td>0</td>\n",
       "      <td>0</td>\n",
       "      <td>2</td>\n",
       "    </tr>\n",
       "    <tr>\n",
       "      <th>4</th>\n",
       "      <td>1821</td>\n",
       "      <td>0</td>\n",
       "      <td>1</td>\n",
       "      <td>44</td>\n",
       "      <td>0.6</td>\n",
       "      <td>141</td>\n",
       "      <td>2</td>\n",
       "      <td>1208</td>\n",
       "      <td>1212</td>\n",
       "      <td>1411</td>\n",
       "      <td>8</td>\n",
       "      <td>2</td>\n",
       "      <td>1</td>\n",
       "      <td>1</td>\n",
       "      <td>0</td>\n",
       "      <td>1</td>\n",
       "    </tr>\n",
       "    <tr>\n",
       "      <th>...</th>\n",
       "      <td>...</td>\n",
       "      <td>...</td>\n",
       "      <td>...</td>\n",
       "      <td>...</td>\n",
       "      <td>...</td>\n",
       "      <td>...</td>\n",
       "      <td>...</td>\n",
       "      <td>...</td>\n",
       "      <td>...</td>\n",
       "      <td>...</td>\n",
       "      <td>...</td>\n",
       "      <td>...</td>\n",
       "      <td>...</td>\n",
       "      <td>...</td>\n",
       "      <td>...</td>\n",
       "      <td>...</td>\n",
       "    </tr>\n",
       "    <tr>\n",
       "      <th>1995</th>\n",
       "      <td>794</td>\n",
       "      <td>1</td>\n",
       "      <td>1</td>\n",
       "      <td>2</td>\n",
       "      <td>0.8</td>\n",
       "      <td>106</td>\n",
       "      <td>6</td>\n",
       "      <td>1222</td>\n",
       "      <td>1890</td>\n",
       "      <td>668</td>\n",
       "      <td>13</td>\n",
       "      <td>4</td>\n",
       "      <td>1</td>\n",
       "      <td>1</td>\n",
       "      <td>0</td>\n",
       "      <td>0</td>\n",
       "    </tr>\n",
       "    <tr>\n",
       "      <th>1996</th>\n",
       "      <td>1965</td>\n",
       "      <td>1</td>\n",
       "      <td>0</td>\n",
       "      <td>39</td>\n",
       "      <td>0.2</td>\n",
       "      <td>187</td>\n",
       "      <td>4</td>\n",
       "      <td>915</td>\n",
       "      <td>1965</td>\n",
       "      <td>2032</td>\n",
       "      <td>11</td>\n",
       "      <td>10</td>\n",
       "      <td>1</td>\n",
       "      <td>1</td>\n",
       "      <td>1</td>\n",
       "      <td>2</td>\n",
       "    </tr>\n",
       "    <tr>\n",
       "      <th>1997</th>\n",
       "      <td>1911</td>\n",
       "      <td>1</td>\n",
       "      <td>1</td>\n",
       "      <td>36</td>\n",
       "      <td>0.7</td>\n",
       "      <td>108</td>\n",
       "      <td>8</td>\n",
       "      <td>868</td>\n",
       "      <td>1632</td>\n",
       "      <td>3057</td>\n",
       "      <td>9</td>\n",
       "      <td>1</td>\n",
       "      <td>1</td>\n",
       "      <td>1</td>\n",
       "      <td>0</td>\n",
       "      <td>3</td>\n",
       "    </tr>\n",
       "    <tr>\n",
       "      <th>1998</th>\n",
       "      <td>1512</td>\n",
       "      <td>0</td>\n",
       "      <td>1</td>\n",
       "      <td>46</td>\n",
       "      <td>0.1</td>\n",
       "      <td>145</td>\n",
       "      <td>5</td>\n",
       "      <td>336</td>\n",
       "      <td>670</td>\n",
       "      <td>869</td>\n",
       "      <td>18</td>\n",
       "      <td>10</td>\n",
       "      <td>1</td>\n",
       "      <td>1</td>\n",
       "      <td>1</td>\n",
       "      <td>0</td>\n",
       "    </tr>\n",
       "    <tr>\n",
       "      <th>1999</th>\n",
       "      <td>510</td>\n",
       "      <td>1</td>\n",
       "      <td>1</td>\n",
       "      <td>45</td>\n",
       "      <td>0.9</td>\n",
       "      <td>168</td>\n",
       "      <td>6</td>\n",
       "      <td>483</td>\n",
       "      <td>754</td>\n",
       "      <td>3919</td>\n",
       "      <td>19</td>\n",
       "      <td>4</td>\n",
       "      <td>1</td>\n",
       "      <td>1</td>\n",
       "      <td>1</td>\n",
       "      <td>3</td>\n",
       "    </tr>\n",
       "  </tbody>\n",
       "</table>\n",
       "<p>2000 rows × 16 columns</p>\n",
       "</div>"
      ],
      "text/plain": [
       "      battery_power  dual_sim  four_g  int_memory  m_dep  mobile_wt  n_cores  \\\n",
       "0               842         0       0           7    0.6        188        2   \n",
       "1              1021         1       1          53    0.7        136        3   \n",
       "2               563         1       1          41    0.9        145        5   \n",
       "3               615         0       0          10    0.8        131        6   \n",
       "4              1821         0       1          44    0.6        141        2   \n",
       "...             ...       ...     ...         ...    ...        ...      ...   \n",
       "1995            794         1       1           2    0.8        106        6   \n",
       "1996           1965         1       0          39    0.2        187        4   \n",
       "1997           1911         1       1          36    0.7        108        8   \n",
       "1998           1512         0       1          46    0.1        145        5   \n",
       "1999            510         1       1          45    0.9        168        6   \n",
       "\n",
       "      px_height  px_width   ram  sc_h  sc_w  three_g  touch_screen  wifi  \\\n",
       "0            20       756  2549     9     7        0             0     1   \n",
       "1           905      1988  2631    17     3        1             1     0   \n",
       "2          1263      1716  2603    11     2        1             1     0   \n",
       "3          1216      1786  2769    16     8        1             0     0   \n",
       "4          1208      1212  1411     8     2        1             1     0   \n",
       "...         ...       ...   ...   ...   ...      ...           ...   ...   \n",
       "1995       1222      1890   668    13     4        1             1     0   \n",
       "1996        915      1965  2032    11    10        1             1     1   \n",
       "1997        868      1632  3057     9     1        1             1     0   \n",
       "1998        336       670   869    18    10        1             1     1   \n",
       "1999        483       754  3919    19     4        1             1     1   \n",
       "\n",
       "      price_range  \n",
       "0               1  \n",
       "1               2  \n",
       "2               2  \n",
       "3               2  \n",
       "4               1  \n",
       "...           ...  \n",
       "1995            0  \n",
       "1996            2  \n",
       "1997            3  \n",
       "1998            0  \n",
       "1999            3  \n",
       "\n",
       "[2000 rows x 16 columns]"
      ]
     },
     "execution_count": 12,
     "metadata": {},
     "output_type": "execute_result"
    }
   ],
   "source": [
    "df"
   ]
  },
  {
   "cell_type": "markdown",
   "id": "625d6709",
   "metadata": {},
   "source": [
    "# Data Visualisation"
   ]
  },
  {
   "cell_type": "code",
   "execution_count": 13,
   "id": "5cfd5895",
   "metadata": {},
   "outputs": [
    {
     "data": {
      "image/png": "[encoded data removed]",
      "text/plain": [
       "<Figure size 1800x720 with 3 Axes>"
      ]
     },
     "metadata": {
      "needs_background": "light"
     },
     "output_type": "display_data"
    }
   ],
   "source": [
    "import missingno as msno\n",
    "msno.bar(df)\n",
    "plt.show()\n"
   ]
  },
  {
   "cell_type": "code",
   "execution_count": 14,
   "id": "ff2d2961",
   "metadata": {},
   "outputs": [
    {
     "data": {
      "text/plain": [
       "battery_power    1.930884e+05\n",
       "dual_sim         2.500348e-01\n",
       "four_g           2.496626e-01\n",
       "int_memory       3.292670e+02\n",
       "m_dep            8.318353e-02\n",
       "mobile_wt        1.253136e+03\n",
       "n_cores          5.234197e+00\n",
       "px_height        1.969414e+05\n",
       "px_width         1.867964e+05\n",
       "ram              1.176644e+06\n",
       "sc_h             1.775143e+01\n",
       "sc_w             1.897820e+01\n",
       "three_g          1.817086e-01\n",
       "touch_screen     2.501161e-01\n",
       "wifi             2.500760e-01\n",
       "price_range      1.250625e+00\n",
       "dtype: float64"
      ]
     },
     "execution_count": 14,
     "metadata": {},
     "output_type": "execute_result"
    }
   ],
   "source": [
    "df.var()"
   ]
  },
  {
   "cell_type": "code",
   "execution_count": 15,
   "id": "dd0e3af0",
   "metadata": {},
   "outputs": [
    {
     "data": {
      "text/html": [
       "<div>\n",
       "<style scoped>\n",
       "    .dataframe tbody tr th:only-of-type {\n",
       "        vertical-align: middle;\n",
       "    }\n",
       "\n",
       "    .dataframe tbody tr th {\n",
       "        vertical-align: top;\n",
       "    }\n",
       "\n",
       "    .dataframe thead th {\n",
       "        text-align: right;\n",
       "    }\n",
       "</style>\n",
       "<table border=\"1\" class=\"dataframe\">\n",
       "  <thead>\n",
       "    <tr style=\"text-align: right;\">\n",
       "      <th></th>\n",
       "      <th>battery_power</th>\n",
       "      <th>dual_sim</th>\n",
       "      <th>four_g</th>\n",
       "      <th>int_memory</th>\n",
       "      <th>m_dep</th>\n",
       "      <th>mobile_wt</th>\n",
       "      <th>n_cores</th>\n",
       "      <th>px_height</th>\n",
       "      <th>px_width</th>\n",
       "      <th>ram</th>\n",
       "      <th>sc_h</th>\n",
       "      <th>sc_w</th>\n",
       "      <th>three_g</th>\n",
       "      <th>touch_screen</th>\n",
       "      <th>wifi</th>\n",
       "      <th>price_range</th>\n",
       "    </tr>\n",
       "  </thead>\n",
       "  <tbody>\n",
       "    <tr>\n",
       "      <th>battery_power</th>\n",
       "      <td>1.000000</td>\n",
       "      <td>-0.041847</td>\n",
       "      <td>0.015665</td>\n",
       "      <td>-0.004004</td>\n",
       "      <td>0.034085</td>\n",
       "      <td>0.001844</td>\n",
       "      <td>-0.029727</td>\n",
       "      <td>0.014901</td>\n",
       "      <td>-0.008402</td>\n",
       "      <td>-0.000653</td>\n",
       "      <td>-0.029959</td>\n",
       "      <td>-0.021421</td>\n",
       "      <td>0.011522</td>\n",
       "      <td>-0.010516</td>\n",
       "      <td>-0.008343</td>\n",
       "      <td>0.200723</td>\n",
       "    </tr>\n",
       "    <tr>\n",
       "      <th>dual_sim</th>\n",
       "      <td>-0.041847</td>\n",
       "      <td>1.000000</td>\n",
       "      <td>0.003187</td>\n",
       "      <td>-0.015679</td>\n",
       "      <td>-0.022142</td>\n",
       "      <td>-0.008979</td>\n",
       "      <td>-0.024658</td>\n",
       "      <td>-0.020875</td>\n",
       "      <td>0.014291</td>\n",
       "      <td>0.041072</td>\n",
       "      <td>-0.011949</td>\n",
       "      <td>-0.016666</td>\n",
       "      <td>-0.014008</td>\n",
       "      <td>-0.017117</td>\n",
       "      <td>0.022740</td>\n",
       "      <td>0.017444</td>\n",
       "    </tr>\n",
       "    <tr>\n",
       "      <th>four_g</th>\n",
       "      <td>0.015665</td>\n",
       "      <td>0.003187</td>\n",
       "      <td>1.000000</td>\n",
       "      <td>0.008690</td>\n",
       "      <td>-0.001823</td>\n",
       "      <td>-0.016537</td>\n",
       "      <td>-0.029706</td>\n",
       "      <td>-0.019236</td>\n",
       "      <td>0.007448</td>\n",
       "      <td>0.007313</td>\n",
       "      <td>0.027166</td>\n",
       "      <td>0.037005</td>\n",
       "      <td>0.584246</td>\n",
       "      <td>0.016758</td>\n",
       "      <td>-0.017620</td>\n",
       "      <td>0.014772</td>\n",
       "    </tr>\n",
       "    <tr>\n",
       "      <th>int_memory</th>\n",
       "      <td>-0.004004</td>\n",
       "      <td>-0.015679</td>\n",
       "      <td>0.008690</td>\n",
       "      <td>1.000000</td>\n",
       "      <td>0.006886</td>\n",
       "      <td>-0.034214</td>\n",
       "      <td>-0.028310</td>\n",
       "      <td>0.010441</td>\n",
       "      <td>-0.008335</td>\n",
       "      <td>0.032813</td>\n",
       "      <td>0.037771</td>\n",
       "      <td>0.011731</td>\n",
       "      <td>-0.009366</td>\n",
       "      <td>-0.026999</td>\n",
       "      <td>0.006993</td>\n",
       "      <td>0.044435</td>\n",
       "    </tr>\n",
       "    <tr>\n",
       "      <th>m_dep</th>\n",
       "      <td>0.034085</td>\n",
       "      <td>-0.022142</td>\n",
       "      <td>-0.001823</td>\n",
       "      <td>0.006886</td>\n",
       "      <td>1.000000</td>\n",
       "      <td>0.021756</td>\n",
       "      <td>-0.003504</td>\n",
       "      <td>0.025263</td>\n",
       "      <td>0.023566</td>\n",
       "      <td>-0.009434</td>\n",
       "      <td>-0.025348</td>\n",
       "      <td>-0.018388</td>\n",
       "      <td>-0.012065</td>\n",
       "      <td>-0.002638</td>\n",
       "      <td>-0.028353</td>\n",
       "      <td>0.000853</td>\n",
       "    </tr>\n",
       "    <tr>\n",
       "      <th>mobile_wt</th>\n",
       "      <td>0.001844</td>\n",
       "      <td>-0.008979</td>\n",
       "      <td>-0.016537</td>\n",
       "      <td>-0.034214</td>\n",
       "      <td>0.021756</td>\n",
       "      <td>1.000000</td>\n",
       "      <td>-0.018989</td>\n",
       "      <td>0.000939</td>\n",
       "      <td>0.000090</td>\n",
       "      <td>-0.002581</td>\n",
       "      <td>-0.033855</td>\n",
       "      <td>-0.020761</td>\n",
       "      <td>0.001551</td>\n",
       "      <td>-0.014368</td>\n",
       "      <td>-0.000409</td>\n",
       "      <td>-0.030302</td>\n",
       "    </tr>\n",
       "    <tr>\n",
       "      <th>n_cores</th>\n",
       "      <td>-0.029727</td>\n",
       "      <td>-0.024658</td>\n",
       "      <td>-0.029706</td>\n",
       "      <td>-0.028310</td>\n",
       "      <td>-0.003504</td>\n",
       "      <td>-0.018989</td>\n",
       "      <td>1.000000</td>\n",
       "      <td>-0.006872</td>\n",
       "      <td>0.024480</td>\n",
       "      <td>0.004868</td>\n",
       "      <td>-0.000315</td>\n",
       "      <td>0.025826</td>\n",
       "      <td>-0.014733</td>\n",
       "      <td>0.023774</td>\n",
       "      <td>-0.009964</td>\n",
       "      <td>0.004399</td>\n",
       "    </tr>\n",
       "    <tr>\n",
       "      <th>px_height</th>\n",
       "      <td>0.014901</td>\n",
       "      <td>-0.020875</td>\n",
       "      <td>-0.019236</td>\n",
       "      <td>0.010441</td>\n",
       "      <td>0.025263</td>\n",
       "      <td>0.000939</td>\n",
       "      <td>-0.006872</td>\n",
       "      <td>1.000000</td>\n",
       "      <td>0.510664</td>\n",
       "      <td>-0.020352</td>\n",
       "      <td>0.059615</td>\n",
       "      <td>0.043038</td>\n",
       "      <td>-0.031174</td>\n",
       "      <td>0.021891</td>\n",
       "      <td>0.051824</td>\n",
       "      <td>0.148858</td>\n",
       "    </tr>\n",
       "    <tr>\n",
       "      <th>px_width</th>\n",
       "      <td>-0.008402</td>\n",
       "      <td>0.014291</td>\n",
       "      <td>0.007448</td>\n",
       "      <td>-0.008335</td>\n",
       "      <td>0.023566</td>\n",
       "      <td>0.000090</td>\n",
       "      <td>0.024480</td>\n",
       "      <td>0.510664</td>\n",
       "      <td>1.000000</td>\n",
       "      <td>0.004105</td>\n",
       "      <td>0.021599</td>\n",
       "      <td>0.034699</td>\n",
       "      <td>0.000350</td>\n",
       "      <td>-0.001628</td>\n",
       "      <td>0.030319</td>\n",
       "      <td>0.165818</td>\n",
       "    </tr>\n",
       "    <tr>\n",
       "      <th>ram</th>\n",
       "      <td>-0.000653</td>\n",
       "      <td>0.041072</td>\n",
       "      <td>0.007313</td>\n",
       "      <td>0.032813</td>\n",
       "      <td>-0.009434</td>\n",
       "      <td>-0.002581</td>\n",
       "      <td>0.004868</td>\n",
       "      <td>-0.020352</td>\n",
       "      <td>0.004105</td>\n",
       "      <td>1.000000</td>\n",
       "      <td>0.015996</td>\n",
       "      <td>0.035576</td>\n",
       "      <td>0.015795</td>\n",
       "      <td>-0.030455</td>\n",
       "      <td>0.022669</td>\n",
       "      <td>0.917046</td>\n",
       "    </tr>\n",
       "    <tr>\n",
       "      <th>sc_h</th>\n",
       "      <td>-0.029959</td>\n",
       "      <td>-0.011949</td>\n",
       "      <td>0.027166</td>\n",
       "      <td>0.037771</td>\n",
       "      <td>-0.025348</td>\n",
       "      <td>-0.033855</td>\n",
       "      <td>-0.000315</td>\n",
       "      <td>0.059615</td>\n",
       "      <td>0.021599</td>\n",
       "      <td>0.015996</td>\n",
       "      <td>1.000000</td>\n",
       "      <td>0.506144</td>\n",
       "      <td>0.012033</td>\n",
       "      <td>-0.020023</td>\n",
       "      <td>0.025929</td>\n",
       "      <td>0.022986</td>\n",
       "    </tr>\n",
       "    <tr>\n",
       "      <th>sc_w</th>\n",
       "      <td>-0.021421</td>\n",
       "      <td>-0.016666</td>\n",
       "      <td>0.037005</td>\n",
       "      <td>0.011731</td>\n",
       "      <td>-0.018388</td>\n",
       "      <td>-0.020761</td>\n",
       "      <td>0.025826</td>\n",
       "      <td>0.043038</td>\n",
       "      <td>0.034699</td>\n",
       "      <td>0.035576</td>\n",
       "      <td>0.506144</td>\n",
       "      <td>1.000000</td>\n",
       "      <td>0.030941</td>\n",
       "      <td>0.012720</td>\n",
       "      <td>0.035423</td>\n",
       "      <td>0.038711</td>\n",
       "    </tr>\n",
       "    <tr>\n",
       "      <th>three_g</th>\n",
       "      <td>0.011522</td>\n",
       "      <td>-0.014008</td>\n",
       "      <td>0.584246</td>\n",
       "      <td>-0.009366</td>\n",
       "      <td>-0.012065</td>\n",
       "      <td>0.001551</td>\n",
       "      <td>-0.014733</td>\n",
       "      <td>-0.031174</td>\n",
       "      <td>0.000350</td>\n",
       "      <td>0.015795</td>\n",
       "      <td>0.012033</td>\n",
       "      <td>0.030941</td>\n",
       "      <td>1.000000</td>\n",
       "      <td>0.013917</td>\n",
       "      <td>0.004316</td>\n",
       "      <td>0.023611</td>\n",
       "    </tr>\n",
       "    <tr>\n",
       "      <th>touch_screen</th>\n",
       "      <td>-0.010516</td>\n",
       "      <td>-0.017117</td>\n",
       "      <td>0.016758</td>\n",
       "      <td>-0.026999</td>\n",
       "      <td>-0.002638</td>\n",
       "      <td>-0.014368</td>\n",
       "      <td>0.023774</td>\n",
       "      <td>0.021891</td>\n",
       "      <td>-0.001628</td>\n",
       "      <td>-0.030455</td>\n",
       "      <td>-0.020023</td>\n",
       "      <td>0.012720</td>\n",
       "      <td>0.013917</td>\n",
       "      <td>1.000000</td>\n",
       "      <td>0.011917</td>\n",
       "      <td>-0.030411</td>\n",
       "    </tr>\n",
       "    <tr>\n",
       "      <th>wifi</th>\n",
       "      <td>-0.008343</td>\n",
       "      <td>0.022740</td>\n",
       "      <td>-0.017620</td>\n",
       "      <td>0.006993</td>\n",
       "      <td>-0.028353</td>\n",
       "      <td>-0.000409</td>\n",
       "      <td>-0.009964</td>\n",
       "      <td>0.051824</td>\n",
       "      <td>0.030319</td>\n",
       "      <td>0.022669</td>\n",
       "      <td>0.025929</td>\n",
       "      <td>0.035423</td>\n",
       "      <td>0.004316</td>\n",
       "      <td>0.011917</td>\n",
       "      <td>1.000000</td>\n",
       "      <td>0.018785</td>\n",
       "    </tr>\n",
       "    <tr>\n",
       "      <th>price_range</th>\n",
       "      <td>0.200723</td>\n",
       "      <td>0.017444</td>\n",
       "      <td>0.014772</td>\n",
       "      <td>0.044435</td>\n",
       "      <td>0.000853</td>\n",
       "      <td>-0.030302</td>\n",
       "      <td>0.004399</td>\n",
       "      <td>0.148858</td>\n",
       "      <td>0.165818</td>\n",
       "      <td>0.917046</td>\n",
       "      <td>0.022986</td>\n",
       "      <td>0.038711</td>\n",
       "      <td>0.023611</td>\n",
       "      <td>-0.030411</td>\n",
       "      <td>0.018785</td>\n",
       "      <td>1.000000</td>\n",
       "    </tr>\n",
       "  </tbody>\n",
       "</table>\n",
       "</div>"
      ],
      "text/plain": [
       "               battery_power  dual_sim    four_g  int_memory     m_dep  \\\n",
       "battery_power       1.000000 -0.041847  0.015665   -0.004004  0.034085   \n",
       "dual_sim           -0.041847  1.000000  0.003187   -0.015679 -0.022142   \n",
       "four_g              0.015665  0.003187  1.000000    0.008690 -0.001823   \n",
       "int_memory         -0.004004 -0.015679  0.008690    1.000000  0.006886   \n",
       "m_dep               0.034085 -0.022142 -0.001823    0.006886  1.000000   \n",
       "mobile_wt           0.001844 -0.008979 -0.016537   -0.034214  0.021756   \n",
       "n_cores            -0.029727 -0.024658 -0.029706   -0.028310 -0.003504   \n",
       "px_height           0.014901 -0.020875 -0.019236    0.010441  0.025263   \n",
       "px_width           -0.008402  0.014291  0.007448   -0.008335  0.023566   \n",
       "ram                -0.000653  0.041072  0.007313    0.032813 -0.009434   \n",
       "sc_h               -0.029959 -0.011949  0.027166    0.037771 -0.025348   \n",
       "sc_w               -0.021421 -0.016666  0.037005    0.011731 -0.018388   \n",
       "three_g             0.011522 -0.014008  0.584246   -0.009366 -0.012065   \n",
       "touch_screen       -0.010516 -0.017117  0.016758   -0.026999 -0.002638   \n",
       "wifi               -0.008343  0.022740 -0.017620    0.006993 -0.028353   \n",
       "price_range         0.200723  0.017444  0.014772    0.044435  0.000853   \n",
       "\n",
       "               mobile_wt   n_cores  px_height  px_width       ram      sc_h  \\\n",
       "battery_power   0.001844 -0.029727   0.014901 -0.008402 -0.000653 -0.029959   \n",
       "dual_sim       -0.008979 -0.024658  -0.020875  0.014291  0.041072 -0.011949   \n",
       "four_g         -0.016537 -0.029706  -0.019236  0.007448  0.007313  0.027166   \n",
       "int_memory     -0.034214 -0.028310   0.010441 -0.008335  0.032813  0.037771   \n",
       "m_dep           0.021756 -0.003504   0.025263  0.023566 -0.009434 -0.025348   \n",
       "mobile_wt       1.000000 -0.018989   0.000939  0.000090 -0.002581 -0.033855   \n",
       "n_cores        -0.018989  1.000000  -0.006872  0.024480  0.004868 -0.000315   \n",
       "px_height       0.000939 -0.006872   1.000000  0.510664 -0.020352  0.059615   \n",
       "px_width        0.000090  0.024480   0.510664  1.000000  0.004105  0.021599   \n",
       "ram            -0.002581  0.004868  -0.020352  0.004105  1.000000  0.015996   \n",
       "sc_h           -0.033855 -0.000315   0.059615  0.021599  0.015996  1.000000   \n",
       "sc_w           -0.020761  0.025826   0.043038  0.034699  0.035576  0.506144   \n",
       "three_g         0.001551 -0.014733  -0.031174  0.000350  0.015795  0.012033   \n",
       "touch_screen   -0.014368  0.023774   0.021891 -0.001628 -0.030455 -0.020023   \n",
       "wifi           -0.000409 -0.009964   0.051824  0.030319  0.022669  0.025929   \n",
       "price_range    -0.030302  0.004399   0.148858  0.165818  0.917046  0.022986   \n",
       "\n",
       "                   sc_w   three_g  touch_screen      wifi  price_range  \n",
       "battery_power -0.021421  0.011522     -0.010516 -0.008343     0.200723  \n",
       "dual_sim      -0.016666 -0.014008     -0.017117  0.022740     0.017444  \n",
       "four_g         0.037005  0.584246      0.016758 -0.017620     0.014772  \n",
       "int_memory     0.011731 -0.009366     -0.026999  0.006993     0.044435  \n",
       "m_dep         -0.018388 -0.012065     -0.002638 -0.028353     0.000853  \n",
       "mobile_wt     -0.020761  0.001551     -0.014368 -0.000409    -0.030302  \n",
       "n_cores        0.025826 -0.014733      0.023774 -0.009964     0.004399  \n",
       "px_height      0.043038 -0.031174      0.021891  0.051824     0.148858  \n",
       "px_width       0.034699  0.000350     -0.001628  0.030319     0.165818  \n",
       "ram            0.035576  0.015795     -0.030455  0.022669     0.917046  \n",
       "sc_h           0.506144  0.012033     -0.020023  0.025929     0.022986  \n",
       "sc_w           1.000000  0.030941      0.012720  0.035423     0.038711  \n",
       "three_g        0.030941  1.000000      0.013917  0.004316     0.023611  \n",
       "touch_screen   0.012720  0.013917      1.000000  0.011917    -0.030411  \n",
       "wifi           0.035423  0.004316      0.011917  1.000000     0.018785  \n",
       "price_range    0.038711  0.023611     -0.030411  0.018785     1.000000  "
      ]
     },
     "execution_count": 15,
     "metadata": {},
     "output_type": "execute_result"
    }
   ],
   "source": [
    "df.corr()"
   ]
  },
  {
   "cell_type": "code",
   "execution_count": 16,
   "id": "7e44aa45",
   "metadata": {},
   "outputs": [
    {
     "data": {
      "text/plain": [
       "array([1, 2, 3, 0])"
      ]
     },
     "execution_count": 16,
     "metadata": {},
     "output_type": "execute_result"
    }
   ],
   "source": [
    "df['price_range'].unique()"
   ]
  },
  {
   "cell_type": "code",
   "execution_count": 17,
   "id": "e30b46a1",
   "metadata": {},
   "outputs": [
    {
     "data": {
      "text/plain": [
       "<AxesSubplot:xlabel='price_range', ylabel='ram'>"
      ]
     },
     "execution_count": 17,
     "metadata": {},
     "output_type": "execute_result"
    },
    {
     "data": {
      "image/png": "[encoded data removed]",
      "text/plain": [
       "<Figure size 432x288 with 1 Axes>"
      ]
     },
     "metadata": {
      "needs_background": "light"
     },
     "output_type": "display_data"
    }
   ],
   "source": [
    "sns.pointplot(y='ram',x='price_range',data=df)"
   ]
  },
  {
   "cell_type": "code",
   "execution_count": 18,
   "id": "dbd6508a",
   "metadata": {},
   "outputs": [
    {
     "data": {
      "text/plain": [
       "<AxesSubplot:xlabel='price_range', ylabel='battery_power'>"
      ]
     },
     "execution_count": 18,
     "metadata": {},
     "output_type": "execute_result"
    },
    {
     "data": {
      "image/png": "[encoded data removed]",
      "text/plain": [
       "<Figure size 432x288 with 1 Axes>"
      ]
     },
     "metadata": {
      "needs_background": "light"
     },
     "output_type": "display_data"
    }
   ],
   "source": [
    "sns.boxplot(x='price_range',y='battery_power',data=df)"
   ]
  },
  {
   "cell_type": "code",
   "execution_count": 19,
   "id": "d82c173e",
   "metadata": {},
   "outputs": [
    {
     "data": {
      "text/plain": [
       "<AxesSubplot:xlabel='price_range', ylabel='int_memory'>"
      ]
     },
     "execution_count": 19,
     "metadata": {},
     "output_type": "execute_result"
    },
    {
     "data": {
      "image/png": "[encoded data removed]",
      "text/plain": [
       "<Figure size 432x288 with 1 Axes>"
      ]
     },
     "metadata": {
      "needs_background": "light"
     },
     "output_type": "display_data"
    }
   ],
   "source": [
    "sns.boxplot(x='price_range',y='int_memory',data=df)"
   ]
  },
  {
   "cell_type": "code",
   "execution_count": 20,
   "id": "cc3e5f9e",
   "metadata": {},
   "outputs": [
    {
     "data": {
      "text/plain": [
       "Index(['battery_power', 'dual_sim', 'four_g', 'int_memory', 'm_dep',\n",
       "       'mobile_wt', 'n_cores', 'px_height', 'px_width', 'ram', 'sc_h', 'sc_w',\n",
       "       'three_g', 'touch_screen', 'wifi', 'price_range'],\n",
       "      dtype='object')"
      ]
     },
     "execution_count": 20,
     "metadata": {},
     "output_type": "execute_result"
    }
   ],
   "source": [
    "col = df.columns\n",
    "col"
   ]
  },
  {
   "cell_type": "code",
   "execution_count": 21,
   "id": "ecbec11c",
   "metadata": {},
   "outputs": [],
   "source": [
    "categorical_col = ['dual_sim','four_g','three_g','touch_screen','price_range']"
   ]
  },
  {
   "cell_type": "code",
   "execution_count": 22,
   "id": "57570137",
   "metadata": {},
   "outputs": [
    {
     "data": {
      "image/png": "[encoded data removed]",
      "text/plain": [
       "<Figure size 648x576 with 1 Axes>"
      ]
     },
     "metadata": {
      "needs_background": "light"
     },
     "output_type": "display_data"
    },
    {
     "data": {
      "image/png": "[encoded data removed]",
      "text/plain": [
       "<Figure size 648x576 with 1 Axes>"
      ]
     },
     "metadata": {
      "needs_background": "light"
     },
     "output_type": "display_data"
    },
    {
     "data": {
      "image/png": "[encoded data removed]",
      "text/plain": [
       "<Figure size 648x576 with 1 Axes>"
      ]
     },
     "metadata": {
      "needs_background": "light"
     },
     "output_type": "display_data"
    },
    {
     "data": {
      "image/png": "[encoded data removed]",
      "text/plain": [
       "<Figure size 648x576 with 1 Axes>"
      ]
     },
     "metadata": {
      "needs_background": "light"
     },
     "output_type": "display_data"
    },
    {
     "data": {
      "image/png": "[encoded data removed]",
      "text/plain": [
       "<Figure size 648x576 with 1 Axes>"
      ]
     },
     "metadata": {
      "needs_background": "light"
     },
     "output_type": "display_data"
    },
    {
     "data": {
      "image/png": "[encoded data removed]",
      "text/plain": [
       "<Figure size 648x576 with 1 Axes>"
      ]
     },
     "metadata": {
      "needs_background": "light"
     },
     "output_type": "display_data"
    },
    {
     "data": {
      "image/png": "[encoded data removed]",
      "text/plain": [
       "<Figure size 648x576 with 1 Axes>"
      ]
     },
     "metadata": {
      "needs_background": "light"
     },
     "output_type": "display_data"
    },
    {
     "data": {
      "image/png": "[encoded data removed]",
      "text/plain": [
       "<Figure size 648x576 with 1 Axes>"
      ]
     },
     "metadata": {
      "needs_background": "light"
     },
     "output_type": "display_data"
    },
    {
     "data": {
      "image/png": "[encoded data removed]",
      "text/plain": [
       "<Figure size 648x576 with 1 Axes>"
      ]
     },
     "metadata": {
      "needs_background": "light"
     },
     "output_type": "display_data"
    },
    {
     "data": {
      "image/png": "[encoded data removed]",
      "text/plain": [
       "<Figure size 648x576 with 1 Axes>"
      ]
     },
     "metadata": {
      "needs_background": "light"
     },
     "output_type": "display_data"
    },
    {
     "data": {
      "image/png": "[encoded data removed]",
      "text/plain": [
       "<Figure size 648x576 with 1 Axes>"
      ]
     },
     "metadata": {
      "needs_background": "light"
     },
     "output_type": "display_data"
    }
   ],
   "source": [
    " for i in df.drop(df[categorical_col],axis=1):\n",
    "        fig = plt.figure(figsize=(9,8))\n",
    "        plt.hist(df[i],color='purple',bins=10)\n",
    "        plt.xlabel(i)\n",
    "        plt.show()"
   ]
  },
  {
   "cell_type": "code",
   "execution_count": 23,
   "id": "04f7cdb0",
   "metadata": {},
   "outputs": [
    {
     "data": {
      "text/plain": [
       "Text(0.5, 1.0, 'Correlation ')"
      ]
     },
     "execution_count": 23,
     "metadata": {},
     "output_type": "execute_result"
    },
    {
     "data": {
      "image/png": "[encoded data removed]",
      "text/plain": [
       "<Figure size 1080x864 with 2 Axes>"
      ]
     },
     "metadata": {
      "needs_background": "light"
     },
     "output_type": "display_data"
    }
   ],
   "source": [
    "corr=df.corr()\n",
    "fig = plt.figure(figsize=(15,12))\n",
    "r = sns.heatmap(corr, cmap='BrBG')\n",
    "r.set_title(\"Correlation \")"
   ]
  },
  {
   "cell_type": "code",
   "execution_count": 24,
   "id": "2477ca78",
   "metadata": {},
   "outputs": [
    {
     "data": {
      "text/plain": [
       "<AxesSubplot:xlabel='touch_screen', ylabel='ram'>"
      ]
     },
     "execution_count": 24,
     "metadata": {},
     "output_type": "execute_result"
    },
    {
     "data": {
      "image/png": "[encoded data removed]",
      "text/plain": [
       "<Figure size 432x288 with 1 Axes>"
      ]
     },
     "metadata": {
      "needs_background": "light"
     },
     "output_type": "display_data"
    }
   ],
   "source": [
    "sns.stripplot(x=\"touch_screen\", y=\"ram\", hue=\"price_range\",\n",
    "              data=df, dodge=True, jitter=True,\n",
    "              alpha=.25, zorder=1)"
   ]
  },
  {
   "cell_type": "code",
   "execution_count": 25,
   "id": "3430dbff",
   "metadata": {},
   "outputs": [],
   "source": [
    "x=df.drop('price_range',axis=1)\n",
    "y=df['price_range']"
   ]
  },
  {
   "cell_type": "markdown",
   "id": "eab0e306",
   "metadata": {},
   "source": [
    "# Feature Engineering"
   ]
  },
  {
   "cell_type": "code",
   "execution_count": 26,
   "id": "df4688b7",
   "metadata": {},
   "outputs": [],
   "source": [
    "scale=StandardScaler()\n",
    "scaled=scale.fit_transform(x)"
   ]
  },
  {
   "cell_type": "code",
   "execution_count": 27,
   "id": "659dbded",
   "metadata": {},
   "outputs": [
    {
     "data": {
      "text/html": [
       "<div>\n",
       "<style scoped>\n",
       "    .dataframe tbody tr th:only-of-type {\n",
       "        vertical-align: middle;\n",
       "    }\n",
       "\n",
       "    .dataframe tbody tr th {\n",
       "        vertical-align: top;\n",
       "    }\n",
       "\n",
       "    .dataframe thead th {\n",
       "        text-align: right;\n",
       "    }\n",
       "</style>\n",
       "<table border=\"1\" class=\"dataframe\">\n",
       "  <thead>\n",
       "    <tr style=\"text-align: right;\">\n",
       "      <th></th>\n",
       "      <th>vif</th>\n",
       "      <th>features</th>\n",
       "    </tr>\n",
       "  </thead>\n",
       "  <tbody>\n",
       "    <tr>\n",
       "      <th>0</th>\n",
       "      <td>1.005756</td>\n",
       "      <td>battery_power</td>\n",
       "    </tr>\n",
       "    <tr>\n",
       "      <th>1</th>\n",
       "      <td>1.007718</td>\n",
       "      <td>dual_sim</td>\n",
       "    </tr>\n",
       "    <tr>\n",
       "      <th>2</th>\n",
       "      <td>1.523621</td>\n",
       "      <td>four_g</td>\n",
       "    </tr>\n",
       "    <tr>\n",
       "      <th>3</th>\n",
       "      <td>1.006245</td>\n",
       "      <td>int_memory</td>\n",
       "    </tr>\n",
       "    <tr>\n",
       "      <th>4</th>\n",
       "      <td>1.004648</td>\n",
       "      <td>m_dep</td>\n",
       "    </tr>\n",
       "    <tr>\n",
       "      <th>5</th>\n",
       "      <td>1.003873</td>\n",
       "      <td>mobile_wt</td>\n",
       "    </tr>\n",
       "    <tr>\n",
       "      <th>6</th>\n",
       "      <td>1.006355</td>\n",
       "      <td>n_cores</td>\n",
       "    </tr>\n",
       "    <tr>\n",
       "      <th>7</th>\n",
       "      <td>1.366984</td>\n",
       "      <td>px_height</td>\n",
       "    </tr>\n",
       "    <tr>\n",
       "      <th>8</th>\n",
       "      <td>1.358572</td>\n",
       "      <td>px_width</td>\n",
       "    </tr>\n",
       "    <tr>\n",
       "      <th>9</th>\n",
       "      <td>1.006466</td>\n",
       "      <td>ram</td>\n",
       "    </tr>\n",
       "    <tr>\n",
       "      <th>10</th>\n",
       "      <td>1.353480</td>\n",
       "      <td>sc_h</td>\n",
       "    </tr>\n",
       "    <tr>\n",
       "      <th>11</th>\n",
       "      <td>1.351515</td>\n",
       "      <td>sc_w</td>\n",
       "    </tr>\n",
       "    <tr>\n",
       "      <th>12</th>\n",
       "      <td>1.522234</td>\n",
       "      <td>three_g</td>\n",
       "    </tr>\n",
       "    <tr>\n",
       "      <th>13</th>\n",
       "      <td>1.005112</td>\n",
       "      <td>touch_screen</td>\n",
       "    </tr>\n",
       "    <tr>\n",
       "      <th>14</th>\n",
       "      <td>1.006774</td>\n",
       "      <td>wifi</td>\n",
       "    </tr>\n",
       "  </tbody>\n",
       "</table>\n",
       "</div>"
      ],
      "text/plain": [
       "         vif       features\n",
       "0   1.005756  battery_power\n",
       "1   1.007718       dual_sim\n",
       "2   1.523621         four_g\n",
       "3   1.006245     int_memory\n",
       "4   1.004648          m_dep\n",
       "5   1.003873      mobile_wt\n",
       "6   1.006355        n_cores\n",
       "7   1.366984      px_height\n",
       "8   1.358572       px_width\n",
       "9   1.006466            ram\n",
       "10  1.353480           sc_h\n",
       "11  1.351515           sc_w\n",
       "12  1.522234        three_g\n",
       "13  1.005112   touch_screen\n",
       "14  1.006774           wifi"
      ]
     },
     "execution_count": 27,
     "metadata": {},
     "output_type": "execute_result"
    }
   ],
   "source": [
    "from statsmodels.stats.outliers_influence import variance_inflation_factor\n",
    "vif=pd.DataFrame()\n",
    "vif['vif']=[variance_inflation_factor(scaled,i) for i in range(scaled.shape[1])]\n",
    "vif['features']=x.columns\n",
    "vif"
   ]
  },
  {
   "cell_type": "code",
   "execution_count": 28,
   "id": "4f9710d2",
   "metadata": {},
   "outputs": [
    {
     "data": {
      "image/png": "[encoded data removed]",
      "text/plain": [
       "<Figure size 432x288 with 1 Axes>"
      ]
     },
     "metadata": {},
     "output_type": "display_data"
    }
   ],
   "source": [
    "labels = [\"3G-supported\",'Not supported']\n",
    "values = df['three_g'].value_counts().values\n",
    "fig1, ax1 = plt.subplots()\n",
    "colors = ['red', 'blue']\n",
    "ax1.pie(values, labels=labels, autopct='%1.1f%%',shadow=True,startangle=90,colors=colors)\n",
    "plt.show()"
   ]
  },
  {
   "cell_type": "code",
   "execution_count": 29,
   "id": "cbd02f9f",
   "metadata": {},
   "outputs": [
    {
     "data": {
      "image/png": "[encoded data removed]",
      "text/plain": [
       "<Figure size 432x288 with 1 Axes>"
      ]
     },
     "metadata": {},
     "output_type": "display_data"
    }
   ],
   "source": [
    "labels = [\"4G-supported\",'Not supported']\n",
    "values = df['four_g'].value_counts().values\n",
    "fig1, ax1 = plt.subplots()\n",
    "colors = ['orange', 'lightskyblue']\n",
    "ax1.pie(values, labels=labels, autopct='%1.1f%%',shadow=True,startangle=90,colors=colors)\n",
    "plt.show()"
   ]
  },
  {
   "cell_type": "markdown",
   "id": "1ad84631",
   "metadata": {},
   "source": [
    "# Model Building"
   ]
  },
  {
   "cell_type": "code",
   "execution_count": 30,
   "id": "eed05c97",
   "metadata": {},
   "outputs": [],
   "source": [
    "from sklearn.model_selection import train_test_split\n",
    "x_train,x_test,y_train,y_test=train_test_split(x,y,test_size=0.25,random_state=123,stratify=y)"
   ]
  },
  {
   "cell_type": "markdown",
   "id": "ff0f0ff3",
   "metadata": {},
   "source": [
    "# Logistic Regression"
   ]
  },
  {
   "cell_type": "code",
   "execution_count": 31,
   "id": "cae7ccf7",
   "metadata": {},
   "outputs": [
    {
     "name": "stdout",
     "output_type": "stream",
     "text": [
      "Train Set Accuracy:63.800000000000004\n",
      "Test Set Accuracy:63.0\n",
      "\n",
      "Confusion Matrix:\n",
      "[[97 27  0  0]\n",
      " [27 64 35  1]\n",
      " [ 1 29 57 27]\n",
      " [ 0  5 33 97]]\n",
      "\n",
      "Classification Report:\n",
      "              precision    recall  f1-score   support\n",
      "\n",
      "           0       0.78      0.78      0.78       124\n",
      "           1       0.51      0.50      0.51       127\n",
      "           2       0.46      0.50      0.48       114\n",
      "           3       0.78      0.72      0.75       135\n",
      "\n",
      "    accuracy                           0.63       500\n",
      "   macro avg       0.63      0.63      0.63       500\n",
      "weighted avg       0.64      0.63      0.63       500\n",
      "\n"
     ]
    }
   ],
   "source": [
    "from sklearn.linear_model import LogisticRegression\n",
    "from sklearn.metrics import accuracy_score,confusion_matrix,classification_report\n",
    "lr = LogisticRegression(penalty='l2',C=0.1)\n",
    "lr.fit(x_train,y_train)\n",
    "\n",
    " \n",
    "y_test_pred = lr.predict(x_test)\n",
    "y_train_pred = lr.predict(x_train)\n",
    "\n",
    "lr_acc=accuracy_score(y_test_pred,y_test)\n",
    "\n",
    "print(\"Train Set Accuracy:\"+str(accuracy_score(y_train_pred,y_train)*100))\n",
    "print(\"Test Set Accuracy:\"+str(accuracy_score(y_test_pred,y_test)*100))\n",
    "print(\"\\nConfusion Matrix:\\n%s\"%confusion_matrix(y_test_pred,y_test))\n",
    "print(\"\\nClassification Report:\\n%s\"%classification_report(y_test_pred,y_test))"
   ]
  },
  {
   "cell_type": "markdown",
   "id": "d45bfde6",
   "metadata": {},
   "source": [
    "# Linear Regression"
   ]
  },
  {
   "cell_type": "code",
   "execution_count": 32,
   "id": "c000ddcb",
   "metadata": {},
   "outputs": [
    {
     "name": "stdout",
     "output_type": "stream",
     "text": [
      "Training Set Accuracy:63.800000000000004\n",
      "Testing Set Accuracy:63.0\n",
      "Linear Regression Score:0.9199093927004044\n"
     ]
    }
   ],
   "source": [
    "from sklearn.linear_model import LinearRegression\n",
    "lm = LinearRegression()\n",
    "lm.fit(x_train,y_train)\n",
    "\n",
    "lm_acc=lm.score(x_train,y_train)\n",
    "\n",
    "print(\"Training Set Accuracy:\"+str(accuracy_score(y_train_pred,y_train)*100))\n",
    "print(\"Testing Set Accuracy:\"+str(accuracy_score(y_test_pred,y_test)*100))\n",
    "print(\"Linear Regression Score:\"+str(lm_acc))"
   ]
  },
  {
   "cell_type": "markdown",
   "id": "36798b72",
   "metadata": {},
   "source": [
    "# K-Nearest Neighbours"
   ]
  },
  {
   "cell_type": "code",
   "execution_count": 33,
   "id": "d709d6a9",
   "metadata": {},
   "outputs": [
    {
     "name": "stdout",
     "output_type": "stream",
     "text": [
      "Training Set Accuracy:95.13333333333334\n",
      "Testing Set Accuracy:89.8\n",
      "\n",
      "Confusion Matrix:\n",
      "[[124  15   0   0]\n",
      " [  1 104  12   0]\n",
      " [  0   6 110  14]\n",
      " [  0   0   3 111]]\n",
      "\n",
      "Classification Report:\n",
      "              precision    recall  f1-score   support\n",
      "\n",
      "           0       0.99      0.89      0.94       139\n",
      "           1       0.83      0.89      0.86       117\n",
      "           2       0.88      0.85      0.86       130\n",
      "           3       0.89      0.97      0.93       114\n",
      "\n",
      "    accuracy                           0.90       500\n",
      "   macro avg       0.90      0.90      0.90       500\n",
      "weighted avg       0.90      0.90      0.90       500\n",
      "\n"
     ]
    }
   ],
   "source": [
    "from sklearn.neighbors import KNeighborsClassifier\n",
    "knn=KNeighborsClassifier(n_neighbors=8)\n",
    "\n",
    "knn.fit(x_train,y_train)\n",
    "\n",
    "y_test_pred1 = knn.predict(x_test)\n",
    "y_train_pred1=knn.predict(x_train)\n",
    "\n",
    "knn_acc=accuracy_score(y_test_pred1,y_test)\n",
    "\n",
    "print(\"Training Set Accuracy:\"+str(accuracy_score(y_train_pred1,y_train)*100))\n",
    "print(\"Testing Set Accuracy:\"+str(accuracy_score(y_test_pred1,y_test)*100))\n",
    "print(\"\\nConfusion Matrix:\\n%s\"%confusion_matrix(y_test_pred1,y_test))\n",
    "print(\"\\nClassification Report:\\n%s\"%classification_report(y_test_pred1,y_test))"
   ]
  },
  {
   "cell_type": "markdown",
   "id": "460a999a",
   "metadata": {},
   "source": [
    "# Support Vector Classifier"
   ]
  },
  {
   "cell_type": "code",
   "execution_count": 34,
   "id": "35369e38",
   "metadata": {},
   "outputs": [
    {
     "name": "stdout",
     "output_type": "stream",
     "text": [
      "Training Set Accuracy:95.06666666666666\n",
      "Testing Set Accuracy:94.0\n",
      "\n",
      "Confusion Matrix:\n",
      "[[124   8   0   0]\n",
      " [  1 114   9   0]\n",
      " [  0   3 112   5]\n",
      " [  0   0   4 120]]\n",
      "\n",
      "Classification Report:\n",
      "              precision    recall  f1-score   support\n",
      "\n",
      "           0       0.99      0.94      0.96       132\n",
      "           1       0.91      0.92      0.92       124\n",
      "           2       0.90      0.93      0.91       120\n",
      "           3       0.96      0.97      0.96       124\n",
      "\n",
      "    accuracy                           0.94       500\n",
      "   macro avg       0.94      0.94      0.94       500\n",
      "weighted avg       0.94      0.94      0.94       500\n",
      "\n"
     ]
    }
   ],
   "source": [
    "from sklearn.svm import SVC\n",
    "\n",
    "svc = SVC()\n",
    "svc.fit(x_train, y_train)\n",
    "\n",
    "y_test_pred2 = svc.predict(x_test)\n",
    "y_train_pred2=svc.predict(x_train)\n",
    "\n",
    "svc_acc=accuracy_score(y_test_pred2,y_test)\n",
    "\n",
    "print(\"Training Set Accuracy:\"+str(accuracy_score(y_train_pred2,y_train)*100))\n",
    "print(\"Testing Set Accuracy:\"+str(accuracy_score(y_test_pred2,y_test)*100))\n",
    "print(\"\\nConfusion Matrix:\\n%s\"%confusion_matrix(y_test_pred2,y_test))\n",
    "print(\"\\nClassification Report:\\n%s\"%classification_report(y_test_pred2,y_test))"
   ]
  },
  {
   "cell_type": "markdown",
   "id": "1cfd6ffd",
   "metadata": {},
   "source": [
    "# Decision Tree"
   ]
  },
  {
   "cell_type": "code",
   "execution_count": 35,
   "id": "4620cf7f",
   "metadata": {},
   "outputs": [
    {
     "name": "stdout",
     "output_type": "stream",
     "text": [
      "Training Set Accuracy:100.0\n",
      "Testing Set Accuracy:83.0\n",
      "\n",
      "Confusion Matrix:\n",
      "[[112  14   0   0]\n",
      " [ 13  94  16   0]\n",
      " [  0  17  96  12]\n",
      " [  0   0  13 113]]\n",
      "\n",
      "Classification Report:\n",
      "              precision    recall  f1-score   support\n",
      "\n",
      "           0       0.90      0.89      0.89       126\n",
      "           1       0.75      0.76      0.76       123\n",
      "           2       0.77      0.77      0.77       125\n",
      "           3       0.90      0.90      0.90       126\n",
      "\n",
      "    accuracy                           0.83       500\n",
      "   macro avg       0.83      0.83      0.83       500\n",
      "weighted avg       0.83      0.83      0.83       500\n",
      "\n"
     ]
    }
   ],
   "source": [
    "from sklearn.tree import DecisionTreeClassifier\n",
    "\n",
    "dtc = DecisionTreeClassifier()\n",
    "dtc.fit(x_train, y_train)\n",
    "\n",
    "y_test_pred3 = dtc.predict(x_test)\n",
    "y_train_pred3=dtc.predict(x_train)\n",
    "\n",
    "\n",
    "print(\"Training Set Accuracy:\"+str(accuracy_score(y_train_pred3,y_train)*100))\n",
    "print(\"Testing Set Accuracy:\"+str(accuracy_score(y_test_pred3,y_test)*100))\n",
    "print(\"\\nConfusion Matrix:\\n%s\"%confusion_matrix(y_test_pred3,y_test))\n",
    "print(\"\\nClassification Report:\\n%s\"%classification_report(y_test_pred3,y_test))"
   ]
  },
  {
   "cell_type": "code",
   "execution_count": 36,
   "id": "99e3c2fa",
   "metadata": {},
   "outputs": [
    {
     "name": "stdout",
     "output_type": "stream",
     "text": [
      "Fitting 5 folds for each of 512 candidates, totalling 2560 fits\n"
     ]
    },
    {
     "data": {
      "text/plain": [
       "GridSearchCV(cv=5, estimator=DecisionTreeClassifier(), n_jobs=-1,\n",
       "             param_grid={'criterion': ['gini', 'entropy'],\n",
       "                         'max_depth': [3, 5, 7, 10],\n",
       "                         'min_samples_leaf': range(2, 10),\n",
       "                         'min_samples_split': range(2, 10)},\n",
       "             verbose=1)"
      ]
     },
     "execution_count": 36,
     "metadata": {},
     "output_type": "execute_result"
    }
   ],
   "source": [
    "grid_params = {\n",
    "    'criterion' : ['gini', 'entropy'],\n",
    "    'max_depth' : [3, 5, 7, 10],\n",
    "    'min_samples_split' : range(2, 10, 1),\n",
    "    'min_samples_leaf' : range(2, 10, 1)\n",
    "}\n",
    "\n",
    "grid_search = GridSearchCV(dtc, grid_params, cv = 5, n_jobs = -1, verbose = 1)\n",
    "grid_search.fit(x_train, y_train)"
   ]
  },
  {
   "cell_type": "code",
   "execution_count": 37,
   "id": "e9387179",
   "metadata": {},
   "outputs": [
    {
     "data": {
      "text/plain": [
       "{'criterion': 'gini',\n",
       " 'max_depth': 7,\n",
       " 'min_samples_leaf': 7,\n",
       " 'min_samples_split': 5}"
      ]
     },
     "execution_count": 37,
     "metadata": {},
     "output_type": "execute_result"
    }
   ],
   "source": [
    "grid_search.best_params_"
   ]
  },
  {
   "cell_type": "code",
   "execution_count": 38,
   "id": "905fae8e",
   "metadata": {},
   "outputs": [],
   "source": [
    "dtc = grid_search.best_estimator_"
   ]
  },
  {
   "cell_type": "code",
   "execution_count": 39,
   "id": "0f09acf4",
   "metadata": {},
   "outputs": [],
   "source": [
    "y_predi=dtc.predict(x_test)"
   ]
  },
  {
   "cell_type": "code",
   "execution_count": 40,
   "id": "96267302",
   "metadata": {},
   "outputs": [
    {
     "name": "stdout",
     "output_type": "stream",
     "text": [
      "Training Accuracy of SVC Model is 0.9253333333333333\n",
      "Test Accuracy of SVC Model is 0.836\n"
     ]
    }
   ],
   "source": [
    "dtc_train_acc = accuracy_score(y_train, dtc.predict(x_train))\n",
    "dtc_test_acc = accuracy_score(y_test, y_predi)\n",
    "\n",
    "print(f\"Training Accuracy of SVC Model is {dtc_train_acc}\")\n",
    "print(f\"Test Accuracy of SVC Model is {dtc_test_acc}\")"
   ]
  },
  {
   "cell_type": "markdown",
   "id": "cfc50f97",
   "metadata": {},
   "source": [
    "# Random Forest"
   ]
  },
  {
   "cell_type": "code",
   "execution_count": 41,
   "id": "6c667e46",
   "metadata": {},
   "outputs": [
    {
     "name": "stdout",
     "output_type": "stream",
     "text": [
      "Training Set Accuracy:100.0\n",
      "Testing Set Accuracy:83.0\n",
      "Random Forest Score:0.854\n"
     ]
    }
   ],
   "source": [
    "from sklearn.ensemble import RandomForestClassifier\n",
    "rfc = RandomForestClassifier(n_estimators=100)\n",
    "rfc.fit(x_train, y_train)\n",
    "\n",
    "rfc_acc=rfc.score(x_test,y_test)\n",
    "\n",
    "print(\"Training Set Accuracy:\"+str(accuracy_score(y_train_pred3,y_train)*100))\n",
    "print(\"Testing Set Accuracy:\"+str(accuracy_score(y_test_pred3,y_test)*100))\n",
    "print(\"Random Forest Score:\"+str(rfc_acc))"
   ]
  },
  {
   "cell_type": "markdown",
   "id": "7c1030ab",
   "metadata": {},
   "source": [
    "# Models Listing"
   ]
  },
  {
   "cell_type": "code",
   "execution_count": 42,
   "id": "b5a049e0",
   "metadata": {},
   "outputs": [
    {
     "data": {
      "text/html": [
       "<div>\n",
       "<style scoped>\n",
       "    .dataframe tbody tr th:only-of-type {\n",
       "        vertical-align: middle;\n",
       "    }\n",
       "\n",
       "    .dataframe tbody tr th {\n",
       "        vertical-align: top;\n",
       "    }\n",
       "\n",
       "    .dataframe thead th {\n",
       "        text-align: right;\n",
       "    }\n",
       "</style>\n",
       "<table border=\"1\" class=\"dataframe\">\n",
       "  <thead>\n",
       "    <tr style=\"text-align: right;\">\n",
       "      <th></th>\n",
       "      <th>Model</th>\n",
       "      <th>Score</th>\n",
       "    </tr>\n",
       "  </thead>\n",
       "  <tbody>\n",
       "    <tr>\n",
       "      <th>3</th>\n",
       "      <td>SVC</td>\n",
       "      <td>0.940000</td>\n",
       "    </tr>\n",
       "    <tr>\n",
       "      <th>0</th>\n",
       "      <td>Linear Regression</td>\n",
       "      <td>0.919909</td>\n",
       "    </tr>\n",
       "    <tr>\n",
       "      <th>2</th>\n",
       "      <td>KNN</td>\n",
       "      <td>0.898000</td>\n",
       "    </tr>\n",
       "    <tr>\n",
       "      <th>5</th>\n",
       "      <td>Random Forest</td>\n",
       "      <td>0.854000</td>\n",
       "    </tr>\n",
       "    <tr>\n",
       "      <th>4</th>\n",
       "      <td>Decision Tree Classifier</td>\n",
       "      <td>0.836000</td>\n",
       "    </tr>\n",
       "    <tr>\n",
       "      <th>1</th>\n",
       "      <td>Logistic Regression</td>\n",
       "      <td>0.630000</td>\n",
       "    </tr>\n",
       "  </tbody>\n",
       "</table>\n",
       "</div>"
      ],
      "text/plain": [
       "                      Model     Score\n",
       "3                       SVC  0.940000\n",
       "0         Linear Regression  0.919909\n",
       "2                       KNN  0.898000\n",
       "5             Random Forest  0.854000\n",
       "4  Decision Tree Classifier  0.836000\n",
       "1       Logistic Regression  0.630000"
      ]
     },
     "execution_count": 42,
     "metadata": {},
     "output_type": "execute_result"
    }
   ],
   "source": [
    "models = pd.DataFrame({\n",
    "    'Model': ['Linear Regression','Logistic Regression', 'KNN', 'SVC',  'Decision Tree Classifier','Random Forest'],\n",
    "    'Score': [lm_acc,lr_acc, knn_acc, svc_acc, dtc_test_acc, rfc_acc]\n",
    "})\n",
    "\n",
    "models.sort_values(by = 'Score', ascending = False)"
   ]
  },
  {
   "cell_type": "code",
   "execution_count": 43,
   "id": "bf23b6c8",
   "metadata": {},
   "outputs": [
    {
     "data": {
      "image/png": "[encoded data removed]",
      "text/plain": [
       "<Figure size 864x576 with 1 Axes>"
      ]
     },
     "metadata": {},
     "output_type": "display_data"
    }
   ],
   "source": [
    "colors = [\"purple\", \"orange\", \"magenta\",\"blue\",\"green\",\"black\"]\n",
    "\n",
    "sns.set_style(\"whitegrid\")\n",
    "plt.figure(figsize=(12,8))\n",
    "plt.ylabel(\"Accuracy %\")\n",
    "plt.xlabel(\"Algorithms\")\n",
    "sns.barplot(x=models['Model'],y=models['Score'], palette=colors )\n",
    "plt.show()"
   ]
  },
  {
   "cell_type": "markdown",
   "id": "ff4d1c3a",
   "metadata": {},
   "source": [
    "# Models Prediction"
   ]
  },
  {
   "cell_type": "code",
   "execution_count": 44,
   "id": "7e966f56",
   "metadata": {},
   "outputs": [
    {
     "data": {
      "text/plain": [
       "array([1, 3, 2, 0, 3, 1, 0, 0, 3, 0, 2, 3, 1, 2, 0, 2, 0, 0, 1, 2, 2, 3,\n",
       "       1, 3, 1, 1, 2, 3, 1, 1, 1, 3, 3, 3, 1, 3, 0, 2, 1, 1, 3, 1, 0, 3,\n",
       "       0, 1, 1, 0, 0, 1, 0, 0, 0, 1, 3, 3, 2, 1, 3, 0, 1, 0, 0, 3, 1, 1,\n",
       "       1, 0, 3, 0, 0, 2, 3, 2, 1, 3, 1, 2, 3, 1, 3, 1, 2, 3, 2, 1, 0, 0,\n",
       "       1, 3, 1, 3, 0, 1, 0, 3, 3, 3, 3, 1, 2, 3, 1, 0, 3, 3, 1, 2, 3, 3,\n",
       "       0, 3, 2, 0, 0, 3, 0, 1, 1, 2, 3, 2, 3, 1, 1, 1, 1, 0, 0, 2, 0, 2,\n",
       "       0, 2, 3, 0, 1, 3, 2, 3, 2, 1, 1, 2, 0, 3, 2, 2, 2, 3, 2, 1, 1, 1,\n",
       "       0, 3, 1, 2, 1, 2, 1, 1, 1, 3, 1, 2, 0, 0, 2, 2, 2, 0, 3, 2, 3, 0,\n",
       "       1, 2, 2, 3, 0, 0, 1, 1, 3, 3, 0, 1, 0, 3, 3, 0, 3, 1, 1, 3, 2, 2,\n",
       "       1, 3, 2, 3, 1, 1, 1, 3, 0, 3, 1, 2, 0, 1, 2, 1, 0, 1, 0, 0, 0, 3,\n",
       "       0, 3, 2, 1, 2, 0, 3, 2, 1, 3, 0, 1, 0, 3, 3, 1, 3, 2, 2, 2, 0, 2,\n",
       "       3, 2, 1, 3, 0, 3, 1, 0, 0, 2, 1, 3, 1, 1, 0, 0, 2, 1, 1, 3, 3, 3,\n",
       "       0, 0, 2, 2, 0, 2, 2, 0, 0, 2, 0, 1, 3, 0, 0, 0, 2, 3, 3, 2, 2, 2,\n",
       "       3, 3, 3, 3, 2, 3, 1, 1, 1, 1, 3, 3, 3, 2, 1, 0, 0, 0, 1, 0, 0, 1,\n",
       "       3, 2, 3, 0, 2, 0, 0, 1, 2, 0, 2, 1, 3, 3, 0, 0, 1, 2, 3, 0, 0, 1,\n",
       "       3, 1, 1, 0, 0, 2, 3, 0, 1, 1, 3, 0, 2, 0, 3, 1, 2, 3, 0, 1, 2, 1,\n",
       "       0, 1, 1, 1, 1, 3, 2, 1, 3, 0, 1, 0, 1, 2, 2, 2, 3, 1, 3, 3, 0, 2,\n",
       "       2, 1, 2, 0, 2, 3, 2, 2, 2, 1, 1, 0, 1, 3, 3, 3, 0, 2, 1, 0, 3, 2,\n",
       "       2, 3, 0, 3, 2, 3, 1, 0, 3, 3, 3, 1, 3, 3, 3, 2, 0, 3, 1, 2, 2, 2,\n",
       "       1, 3, 0, 3, 3, 2, 1, 3, 1, 3, 2, 2, 1, 0, 3, 2, 2, 1, 2, 3, 2, 0,\n",
       "       0, 0, 3, 3, 2, 0, 3, 0, 3, 3, 2, 3, 0, 1, 0, 1, 0, 1, 2, 0, 3, 3,\n",
       "       1, 3, 2, 0, 3, 2, 3, 0, 3, 0, 2, 2, 1, 2, 2, 0, 1, 0, 3, 1, 0, 0,\n",
       "       2, 0, 1, 0, 1, 0, 2, 3, 2, 0, 2, 2, 3, 2, 1, 0])"
      ]
     },
     "execution_count": 44,
     "metadata": {},
     "output_type": "execute_result"
    }
   ],
   "source": [
    "predicted_price1=lr.predict(x_test)\n",
    "predicted_price1"
   ]
  },
  {
   "cell_type": "code",
   "execution_count": 45,
   "id": "80382c98",
   "metadata": {},
   "outputs": [
    {
     "data": {
      "text/plain": [
       "array([ 1.14443882e+00,  3.36062969e+00,  2.31138133e+00,  7.62126780e-01,\n",
       "        3.23109756e+00,  1.21339650e+00,  5.87127993e-01, -1.28092527e-01,\n",
       "        3.05790685e+00,  6.67781851e-01,  1.34669478e+00,  2.34184298e+00,\n",
       "        1.09661435e+00,  2.07184068e+00, -5.17998378e-02,  1.51518372e+00,\n",
       "        8.81754870e-01,  9.11484536e-01,  9.85188792e-01,  7.23697098e-01,\n",
       "        1.64482689e+00,  3.14033090e+00,  7.26729169e-01,  3.08757424e+00,\n",
       "        1.15211837e+00,  1.46621140e+00,  2.96777522e+00,  2.76938992e+00,\n",
       "        1.69266847e+00,  1.01172365e+00,  1.58805010e+00,  2.44857048e+00,\n",
       "        2.93269265e+00,  3.45888530e+00,  9.01833349e-01,  2.69993873e+00,\n",
       "        6.54480287e-01,  2.85648964e+00, -4.45776927e-02,  1.39730310e+00,\n",
       "        1.48888218e+00,  5.11965532e-01,  3.19635809e-01,  2.84700947e+00,\n",
       "       -4.75869343e-01,  1.05475958e+00,  8.44820913e-02, -3.45089793e-01,\n",
       "        9.42404431e-02,  1.52598811e+00,  5.17346415e-01,  3.40175045e-01,\n",
       "       -4.79564341e-01,  1.16428264e+00,  2.87781105e+00,  3.28816057e+00,\n",
       "        1.25248141e+00,  1.72698418e+00,  2.95474117e+00, -2.69110918e-02,\n",
       "        1.64823472e+00,  9.81638784e-02, -3.94930240e-01,  2.26244789e+00,\n",
       "        1.81668052e+00,  6.48374849e-01,  1.43808299e+00,  3.86870349e-01,\n",
       "        2.33144920e+00, -3.76462896e-02, -1.35492619e-01,  1.16826659e+00,\n",
       "        1.33233143e+00,  2.77252286e+00,  1.41704025e+00,  2.51590658e+00,\n",
       "        7.15339757e-01,  1.97762182e+00,  2.20484301e+00,  1.16327905e+00,\n",
       "        1.78814889e+00,  1.08666625e+00,  2.53679930e+00,  2.63308277e+00,\n",
       "        1.94608235e+00,  1.52363578e+00, -4.24649471e-03,  5.36190075e-01,\n",
       "        1.95640145e-01,  2.11672444e+00,  1.17296534e+00,  3.28329015e+00,\n",
       "        7.49425322e-01,  1.47216264e+00,  1.74091984e-01,  2.52594493e+00,\n",
       "        2.61862409e+00,  2.74308231e+00,  2.10596114e+00,  1.93756447e+00,\n",
       "        1.78123152e+00,  2.37640386e+00,  2.65340054e-01,  1.61983218e-01,\n",
       "        3.61189578e+00,  2.65148110e+00,  9.63139217e-01,  2.79774310e+00,\n",
       "        2.44583655e+00,  2.85149121e+00, -3.96630799e-01,  3.37479968e+00,\n",
       "        1.78407587e+00,  2.21633611e-01,  2.04422191e-01,  2.58534579e+00,\n",
       "        1.14522378e+00,  1.46537450e+00, -1.66197634e-01,  2.46053330e+00,\n",
       "        3.31369628e+00,  1.77258588e+00,  2.47362856e+00,  2.11250937e+00,\n",
       "        1.16119211e+00,  1.23170154e+00,  1.81446288e+00, -1.81157447e-01,\n",
       "        4.56716040e-01,  2.30152927e+00, -6.85550474e-02,  1.16395752e+00,\n",
       "       -2.78232083e-01,  1.00804708e+00,  2.42655131e+00,  2.93527354e-01,\n",
       "        1.12148532e+00,  4.04093687e+00,  1.59843215e+00,  2.66267761e+00,\n",
       "        1.66557842e+00,  2.90315871e-01,  1.41937096e+00,  1.13228300e+00,\n",
       "       -3.86414540e-02,  3.37503069e+00,  1.50024512e+00,  1.67803521e+00,\n",
       "        2.88738101e+00,  2.66519728e+00,  2.75254734e+00,  1.20358338e+00,\n",
       "        1.29706354e+00,  1.59391680e-01,  2.55284949e-01,  1.48051577e+00,\n",
       "        3.59143814e-01,  2.05021369e+00,  1.35012548e+00,  2.51484136e+00,\n",
       "        1.72164384e+00,  4.78643350e-01,  1.08194216e+00,  3.57334025e+00,\n",
       "        7.81478447e-01,  1.34823494e+00,  7.05635092e-01,  2.52054736e-02,\n",
       "        1.52870278e+00,  1.61881418e+00,  2.77282453e+00,  5.38504552e-01,\n",
       "        2.17461199e+00,  1.90168159e+00,  2.75307050e+00,  5.29360748e-01,\n",
       "        1.09044151e+00,  2.56101036e+00,  1.35978880e+00,  1.49286841e+00,\n",
       "        3.82750908e-01,  1.96492279e-01,  1.33849795e+00,  1.51937233e+00,\n",
       "        2.50530156e+00,  1.66881284e+00,  3.00662692e-01,  1.13543972e+00,\n",
       "        3.06737487e-01,  2.43083020e+00,  2.70705061e+00,  1.20631460e-01,\n",
       "        2.51322240e+00,  1.37680749e+00,  1.58887587e+00,  3.12683918e+00,\n",
       "        2.85470083e+00,  2.31445417e+00,  5.35441379e-01,  2.99165994e+00,\n",
       "        1.76017142e+00,  1.82359752e+00,  2.00633955e+00,  7.02332531e-01,\n",
       "        7.82063254e-01,  2.50323653e+00,  5.81536564e-01,  3.22348422e+00,\n",
       "        3.12338631e-01,  1.67957092e+00,  1.61378157e-01,  4.34684915e-01,\n",
       "        1.59839750e+00,  9.52372659e-01,  5.45814224e-01,  4.65760103e-01,\n",
       "       -1.60310856e-01,  1.54754218e-01, -1.05340894e-01,  3.30518152e+00,\n",
       "        4.07365899e-01,  2.77163368e+00,  2.04643614e+00,  2.29957217e+00,\n",
       "        2.26815076e+00, -2.52224544e-01,  1.93035822e+00,  8.82112815e-01,\n",
       "        5.57875644e-01,  2.96923031e+00,  7.88020034e-01,  1.01294789e+00,\n",
       "        1.10970872e+00,  2.48447071e+00,  2.95535733e+00,  2.11781686e+00,\n",
       "        2.74234422e+00,  1.16868149e+00,  1.89402761e+00,  1.42344616e+00,\n",
       "       -9.61660424e-02,  1.76192120e+00,  2.84893088e+00,  7.34645407e-01,\n",
       "        4.24483807e-01,  1.96691413e+00,  6.26942751e-01,  2.71094487e+00,\n",
       "        9.41881155e-01, -2.28990867e-01,  1.74303674e-01,  1.61141099e+00,\n",
       "        2.56765269e-01,  2.99430593e+00,  1.67646051e-01,  2.99416192e-01,\n",
       "       -5.69952885e-01,  5.36420657e-01,  2.03566383e+00,  1.44057595e+00,\n",
       "        1.80676898e+00,  2.55910834e+00,  3.18544823e+00,  2.46731930e+00,\n",
       "        9.42230057e-01,  6.52485300e-01,  9.59970283e-01,  1.21452064e+00,\n",
       "        7.53150635e-01,  2.96616383e+00,  2.12998428e+00,  1.19799528e-01,\n",
       "       -1.11513724e-01,  2.15588843e+00, -2.99464575e-01,  9.32624795e-01,\n",
       "        2.30723677e+00,  4.37602464e-01,  5.36066900e-01,  1.45521018e-01,\n",
       "        1.89585686e+00,  2.43670255e+00,  1.98619406e+00,  1.73225027e+00,\n",
       "        1.35829611e+00,  1.37746245e+00,  2.45387841e+00,  2.81239686e+00,\n",
       "        3.11499880e+00,  1.74755915e+00,  9.67651260e-01,  2.28861333e+00,\n",
       "        1.63384318e+00,  1.88199029e+00,  1.24603097e+00,  1.49077112e+00,\n",
       "        3.47631215e+00,  2.86003542e+00,  2.97781863e+00,  1.47448621e+00,\n",
       "        1.55078471e+00, -3.51830078e-02,  7.70854487e-01, -2.59772872e-01,\n",
       "        1.52599581e+00,  4.06192863e-01,  6.48065987e-01,  1.49168284e+00,\n",
       "        2.95404030e+00,  1.09276984e+00,  3.01016557e+00, -3.27730247e-01,\n",
       "        7.80520200e-01, -2.41895950e-01,  7.67457032e-01,  1.25296454e+00,\n",
       "        2.49633089e+00,  6.67080127e-01,  1.77813606e+00,  1.15178635e+00,\n",
       "        2.47087725e+00,  1.82897899e+00,  4.82961189e-01,  8.48040792e-01,\n",
       "        1.34688689e+00,  2.16622420e+00,  2.91027677e+00, -2.47635024e-01,\n",
       "        2.53813767e-01,  2.34442930e+00,  3.32386112e+00,  1.60524121e+00,\n",
       "        6.34554108e-01, -1.26893550e-01, -1.42167575e-01,  1.69185506e+00,\n",
       "        2.11389974e+00, -3.27647046e-01,  1.53259954e+00,  1.39280706e+00,\n",
       "        2.47917593e+00, -2.46928346e-02,  1.53525495e+00,  1.32438631e-01,\n",
       "        3.07157779e+00, -8.53968004e-02,  1.97595993e+00,  2.32498088e+00,\n",
       "       -2.23418827e-03,  2.17470998e+00,  2.76856424e+00,  3.85894607e-01,\n",
       "        2.07333661e-01,  1.05521396e+00,  6.01689655e-01,  1.40522911e+00,\n",
       "        8.24047646e-01,  2.46876534e+00,  2.20139416e+00,  7.83536396e-01,\n",
       "        3.15665839e+00,  2.24985598e-01,  1.22398648e+00,  5.63872356e-01,\n",
       "        1.01168440e+00,  1.86082177e+00,  2.66869232e+00,  1.98858207e+00,\n",
       "        3.60940475e+00,  1.64334397e+00,  3.42886272e+00,  1.33524610e+00,\n",
       "        2.68867653e-01,  2.53016863e+00,  2.99971456e+00,  2.91853116e-01,\n",
       "        2.37448657e+00,  8.90210073e-01,  2.36934744e+00,  3.16547832e+00,\n",
       "        4.47697259e-01,  1.89375557e+00,  1.56245874e+00,  1.00889001e+00,\n",
       "        9.49846259e-01,  5.77451293e-01,  1.35689324e+00,  2.13195525e+00,\n",
       "        3.65630488e+00,  2.99062116e+00,  2.94866432e-01,  2.04988492e+00,\n",
       "        1.16420842e+00,  3.81281958e-01,  2.07905449e+00,  2.92088594e+00,\n",
       "        7.50028032e-01,  2.52848950e+00,  2.73569674e-01,  3.16500320e+00,\n",
       "        1.24908515e+00,  3.09005854e+00,  5.11524160e-01,  5.17243006e-01,\n",
       "        2.67732030e+00,  2.55530170e+00,  2.31991594e+00,  7.36421157e-01,\n",
       "        2.90732245e+00,  2.48764151e+00,  1.99929876e+00,  6.86282760e-01,\n",
       "       -6.17988737e-03,  1.80457795e+00,  1.55299460e+00,  2.72011467e+00,\n",
       "        2.35559701e+00,  2.50829767e+00,  1.22507508e+00,  1.83089794e+00,\n",
       "        1.17706869e+00,  2.33595930e+00,  2.08317167e+00,  2.32419036e+00,\n",
       "       -1.28532822e-01,  2.79696457e+00,  1.21699040e+00,  3.43411876e+00,\n",
       "        1.45181789e+00,  1.70624965e+00,  1.66832005e+00,  7.10600207e-01,\n",
       "        3.70305230e+00,  2.35095794e+00,  1.51765415e+00,  3.81823566e-01,\n",
       "        1.69280837e+00,  2.69566710e+00,  2.46115353e+00, -6.04186135e-01,\n",
       "        6.33811427e-01,  2.58546130e-01,  2.24215368e+00,  3.16977458e+00,\n",
       "        1.43036349e+00,  1.67452742e-01,  2.06520138e+00,  2.99375093e-01,\n",
       "        3.06740137e+00,  2.66806461e+00,  2.57478585e+00,  2.16012612e+00,\n",
       "       -1.70986413e-03,  6.06501291e-01,  4.74746827e-01,  1.98824323e+00,\n",
       "        1.79189837e-01,  1.69846885e+00,  1.52655635e+00, -5.00451936e-01,\n",
       "        2.61780773e+00,  3.32978872e+00,  1.31628233e+00,  2.84625397e+00,\n",
       "        1.91082207e+00,  1.81374766e-01,  3.11614362e+00,  1.97031038e+00,\n",
       "        2.53538619e+00,  3.92191130e-01,  1.78905128e+00, -6.94798418e-02,\n",
       "        2.23538263e+00,  2.17038550e+00,  1.50504358e+00,  8.86870756e-01,\n",
       "        1.47142527e+00, -1.73036138e-01,  1.62728490e+00,  3.61334343e-01,\n",
       "        1.76195337e+00,  1.45761096e+00,  2.22017210e-01,  2.65202362e-01,\n",
       "        1.90541811e+00, -1.78644449e-01,  1.21626541e+00,  1.47444082e-01,\n",
       "        8.78171591e-01,  4.25575485e-01,  2.10077931e+00,  1.31913732e+00,\n",
       "        2.01243185e+00,  3.56342825e-01,  3.16849100e+00,  2.10296196e+00,\n",
       "        2.36149428e+00,  1.81404896e+00,  9.05457771e-01,  4.93747094e-01])"
      ]
     },
     "execution_count": 45,
     "metadata": {},
     "output_type": "execute_result"
    }
   ],
   "source": [
    "predicted_price2=lm.predict(x_test)\n",
    "predicted_price2"
   ]
  },
  {
   "cell_type": "code",
   "execution_count": 46,
   "id": "39f209ea",
   "metadata": {},
   "outputs": [
    {
     "data": {
      "text/plain": [
       "array([1, 3, 2, 1, 3, 1, 0, 0, 3, 0, 1, 2, 1, 2, 0, 1, 1, 1, 1, 1, 2, 3,\n",
       "       1, 3, 1, 2, 3, 3, 2, 1, 2, 3, 3, 3, 1, 3, 0, 3, 0, 1, 1, 0, 0, 3,\n",
       "       0, 1, 0, 0, 0, 2, 0, 0, 0, 1, 3, 3, 1, 2, 3, 0, 2, 0, 0, 2, 2, 0,\n",
       "       1, 0, 2, 0, 0, 1, 1, 3, 1, 3, 0, 2, 2, 1, 2, 1, 3, 3, 2, 2, 0, 0,\n",
       "       0, 2, 1, 3, 1, 2, 0, 3, 3, 2, 2, 2, 2, 3, 0, 0, 3, 3, 1, 3, 2, 3,\n",
       "       0, 3, 2, 0, 0, 3, 1, 1, 0, 3, 3, 2, 2, 2, 1, 1, 2, 0, 0, 2, 0, 1,\n",
       "       0, 1, 2, 0, 1, 3, 1, 3, 2, 0, 2, 1, 0, 3, 1, 2, 3, 3, 3, 1, 1, 0,\n",
       "       0, 1, 0, 2, 1, 3, 2, 0, 1, 3, 1, 1, 1, 0, 1, 1, 3, 0, 2, 2, 3, 0,\n",
       "       1, 3, 1, 1, 0, 0, 1, 2, 3, 2, 0, 1, 0, 2, 3, 0, 3, 1, 2, 3, 3, 3,\n",
       "       0, 3, 2, 2, 2, 1, 1, 3, 0, 3, 0, 2, 0, 0, 1, 1, 0, 0, 0, 0, 0, 3,\n",
       "       0, 3, 2, 2, 2, 0, 2, 1, 0, 3, 1, 1, 1, 2, 3, 2, 3, 1, 2, 1, 0, 2,\n",
       "       3, 1, 0, 2, 1, 3, 1, 0, 0, 2, 0, 3, 0, 0, 0, 0, 2, 2, 2, 3, 3, 3,\n",
       "       1, 0, 1, 1, 1, 3, 2, 0, 0, 2, 0, 1, 2, 0, 0, 0, 2, 2, 2, 2, 1, 1,\n",
       "       3, 3, 3, 2, 1, 2, 2, 2, 1, 2, 3, 3, 3, 2, 2, 0, 1, 0, 2, 0, 1, 1,\n",
       "       3, 1, 3, 0, 0, 0, 1, 1, 3, 0, 2, 1, 2, 2, 0, 1, 1, 2, 3, 0, 0, 2,\n",
       "       3, 2, 0, 0, 0, 2, 2, 0, 2, 1, 2, 0, 2, 0, 3, 0, 2, 2, 0, 2, 3, 0,\n",
       "       0, 1, 1, 2, 1, 2, 3, 1, 3, 0, 1, 0, 1, 2, 3, 2, 3, 1, 3, 1, 0, 3,\n",
       "       3, 0, 2, 1, 2, 3, 0, 2, 1, 1, 1, 0, 1, 2, 3, 3, 0, 2, 1, 0, 2, 3,\n",
       "       0, 3, 0, 3, 1, 3, 0, 0, 3, 3, 2, 1, 3, 2, 2, 0, 0, 2, 2, 3, 2, 3,\n",
       "       1, 2, 1, 2, 2, 3, 0, 3, 1, 3, 1, 2, 2, 1, 3, 3, 2, 0, 2, 3, 3, 0,\n",
       "       0, 0, 2, 3, 1, 0, 2, 0, 3, 3, 3, 2, 0, 0, 0, 2, 0, 2, 1, 0, 3, 3,\n",
       "       1, 3, 2, 0, 3, 2, 3, 0, 2, 0, 2, 2, 2, 1, 1, 0, 2, 0, 2, 1, 0, 0,\n",
       "       2, 0, 1, 0, 1, 0, 2, 1, 2, 0, 3, 2, 3, 2, 1, 0])"
      ]
     },
     "execution_count": 46,
     "metadata": {},
     "output_type": "execute_result"
    }
   ],
   "source": [
    "predicted_price3=knn.predict(x_test)\n",
    "predicted_price3"
   ]
  },
  {
   "cell_type": "code",
   "execution_count": 47,
   "id": "4d99fd90",
   "metadata": {},
   "outputs": [
    {
     "data": {
      "text/plain": [
       "array([1, 3, 2, 1, 3, 1, 0, 0, 3, 1, 1, 2, 1, 2, 0, 2, 1, 1, 1, 1, 2, 3,\n",
       "       1, 3, 1, 1, 3, 3, 2, 1, 2, 3, 3, 3, 1, 3, 0, 3, 0, 1, 1, 0, 0, 3,\n",
       "       0, 1, 0, 0, 0, 2, 0, 0, 0, 1, 3, 3, 1, 2, 3, 0, 2, 0, 0, 2, 2, 0,\n",
       "       1, 0, 2, 0, 0, 1, 1, 3, 1, 3, 1, 2, 2, 1, 2, 1, 3, 3, 2, 2, 0, 0,\n",
       "       0, 2, 1, 3, 1, 1, 0, 3, 3, 3, 2, 2, 2, 3, 0, 0, 3, 3, 1, 3, 3, 3,\n",
       "       0, 3, 2, 0, 0, 3, 1, 2, 0, 3, 3, 2, 3, 2, 1, 1, 2, 0, 0, 3, 0, 1,\n",
       "       0, 1, 2, 0, 1, 3, 2, 3, 2, 0, 1, 1, 0, 3, 1, 2, 3, 3, 3, 1, 1, 0,\n",
       "       0, 1, 0, 2, 1, 3, 2, 0, 1, 3, 1, 1, 1, 0, 1, 2, 3, 0, 2, 2, 3, 0,\n",
       "       1, 3, 1, 1, 0, 0, 1, 2, 3, 2, 0, 1, 0, 2, 3, 0, 3, 1, 2, 3, 3, 3,\n",
       "       0, 3, 2, 2, 2, 1, 1, 3, 0, 3, 0, 2, 0, 0, 2, 1, 0, 0, 0, 0, 0, 3,\n",
       "       0, 3, 2, 2, 3, 0, 2, 1, 0, 3, 1, 1, 1, 3, 3, 2, 3, 1, 2, 1, 0, 2,\n",
       "       3, 1, 0, 2, 1, 3, 1, 0, 0, 2, 0, 3, 0, 0, 0, 0, 2, 1, 2, 3, 3, 2,\n",
       "       1, 0, 1, 1, 1, 3, 2, 0, 0, 2, 0, 1, 2, 0, 0, 0, 2, 2, 2, 2, 1, 1,\n",
       "       3, 3, 3, 2, 1, 2, 2, 2, 1, 2, 3, 3, 3, 1, 2, 0, 1, 0, 2, 0, 1, 1,\n",
       "       3, 1, 3, 0, 1, 0, 1, 1, 3, 0, 2, 1, 3, 2, 0, 1, 1, 2, 3, 0, 0, 3,\n",
       "       3, 2, 1, 0, 0, 2, 2, 0, 2, 1, 3, 0, 2, 0, 3, 0, 2, 2, 0, 2, 3, 0,\n",
       "       0, 1, 0, 1, 1, 3, 3, 1, 3, 0, 1, 0, 1, 2, 3, 2, 3, 2, 3, 1, 0, 3,\n",
       "       3, 0, 3, 1, 2, 3, 0, 2, 2, 1, 1, 0, 1, 2, 3, 3, 0, 2, 1, 0, 2, 3,\n",
       "       1, 3, 0, 3, 1, 3, 0, 0, 3, 3, 2, 1, 3, 3, 2, 1, 0, 2, 2, 3, 2, 3,\n",
       "       1, 2, 1, 2, 2, 3, 0, 3, 1, 3, 1, 2, 2, 1, 3, 2, 2, 0, 2, 3, 3, 0,\n",
       "       1, 0, 2, 3, 1, 0, 2, 0, 3, 3, 3, 2, 0, 1, 0, 2, 0, 2, 1, 0, 3, 3,\n",
       "       1, 3, 2, 0, 3, 2, 3, 0, 2, 0, 2, 2, 1, 1, 1, 0, 2, 0, 2, 1, 0, 0,\n",
       "       2, 0, 1, 0, 1, 0, 2, 1, 2, 0, 3, 2, 3, 2, 1, 0])"
      ]
     },
     "execution_count": 47,
     "metadata": {},
     "output_type": "execute_result"
    }
   ],
   "source": [
    "predicted_price4=svc.predict(x_test)\n",
    "predicted_price4"
   ]
  },
  {
   "cell_type": "code",
   "execution_count": 48,
   "id": "3cc4b4fe",
   "metadata": {},
   "outputs": [
    {
     "data": {
      "text/plain": [
       "array([1, 3, 3, 1, 3, 1, 1, 0, 3, 1, 1, 2, 1, 2, 0, 1, 1, 1, 1, 1, 1, 3,\n",
       "       1, 3, 1, 1, 3, 3, 2, 0, 1, 2, 3, 3, 1, 3, 0, 3, 0, 1, 1, 0, 0, 3,\n",
       "       0, 1, 0, 0, 0, 2, 1, 0, 0, 1, 3, 3, 1, 2, 3, 0, 2, 0, 0, 2, 2, 0,\n",
       "       2, 0, 2, 0, 0, 1, 2, 3, 2, 2, 1, 2, 2, 1, 1, 1, 3, 3, 2, 1, 0, 0,\n",
       "       0, 2, 1, 3, 0, 1, 0, 3, 3, 3, 3, 2, 2, 3, 0, 0, 3, 3, 1, 3, 3, 3,\n",
       "       0, 3, 2, 0, 0, 3, 1, 1, 0, 3, 3, 2, 3, 2, 1, 1, 2, 0, 0, 2, 0, 2,\n",
       "       0, 1, 2, 0, 1, 3, 1, 2, 1, 0, 1, 1, 0, 3, 2, 2, 3, 3, 3, 1, 1, 0,\n",
       "       0, 1, 0, 3, 1, 3, 2, 0, 1, 3, 0, 1, 1, 0, 1, 1, 3, 1, 2, 2, 3, 0,\n",
       "       1, 3, 1, 2, 0, 0, 1, 2, 2, 1, 0, 1, 0, 3, 3, 0, 3, 1, 2, 3, 3, 3,\n",
       "       1, 3, 2, 2, 2, 1, 1, 3, 0, 3, 0, 2, 0, 0, 2, 1, 0, 1, 0, 0, 0, 3,\n",
       "       1, 3, 2, 2, 2, 0, 2, 1, 1, 3, 1, 1, 1, 2, 3, 2, 3, 1, 2, 1, 0, 1,\n",
       "       3, 1, 0, 2, 1, 3, 1, 0, 0, 2, 0, 3, 0, 0, 0, 0, 2, 1, 2, 3, 3, 3,\n",
       "       1, 0, 1, 2, 1, 3, 3, 0, 0, 2, 0, 1, 2, 1, 0, 0, 2, 2, 2, 2, 1, 2,\n",
       "       2, 3, 3, 2, 1, 3, 2, 2, 1, 2, 3, 3, 3, 1, 2, 0, 0, 0, 2, 0, 0, 2,\n",
       "       3, 1, 3, 0, 1, 0, 1, 1, 3, 0, 2, 1, 2, 1, 0, 1, 1, 2, 3, 0, 0, 3,\n",
       "       3, 2, 1, 0, 0, 2, 2, 0, 1, 1, 2, 0, 2, 0, 3, 0, 2, 3, 0, 2, 3, 0,\n",
       "       0, 1, 0, 2, 1, 3, 3, 1, 3, 0, 1, 0, 1, 2, 3, 2, 3, 2, 3, 1, 0, 3,\n",
       "       3, 0, 2, 1, 3, 3, 0, 2, 2, 1, 1, 1, 1, 2, 3, 3, 1, 2, 1, 0, 3, 3,\n",
       "       0, 3, 0, 3, 1, 3, 0, 0, 3, 3, 2, 1, 3, 2, 2, 1, 0, 2, 2, 3, 2, 3,\n",
       "       1, 2, 1, 2, 2, 3, 0, 3, 1, 3, 1, 2, 2, 1, 3, 3, 1, 0, 2, 3, 3, 0,\n",
       "       0, 0, 2, 3, 2, 0, 2, 1, 3, 3, 3, 2, 0, 0, 0, 2, 0, 2, 2, 0, 3, 3,\n",
       "       1, 3, 2, 0, 3, 2, 3, 0, 2, 0, 2, 2, 2, 1, 1, 0, 2, 0, 2, 2, 0, 0,\n",
       "       2, 0, 1, 0, 1, 0, 2, 1, 2, 0, 3, 2, 3, 2, 1, 0])"
      ]
     },
     "execution_count": 48,
     "metadata": {},
     "output_type": "execute_result"
    }
   ],
   "source": [
    "predicted_price5=dtc.predict(x_test)\n",
    "predicted_price5"
   ]
  },
  {
   "cell_type": "code",
   "execution_count": 49,
   "id": "7980a3a4",
   "metadata": {},
   "outputs": [
    {
     "data": {
      "text/plain": [
       "array([1, 3, 2, 1, 3, 1, 0, 0, 3, 0, 1, 3, 1, 2, 0, 1, 1, 1, 1, 1, 2, 3,\n",
       "       1, 3, 1, 2, 3, 3, 2, 1, 2, 3, 3, 3, 1, 3, 0, 3, 0, 1, 1, 0, 0, 3,\n",
       "       0, 1, 0, 0, 0, 1, 1, 0, 0, 1, 3, 3, 1, 2, 3, 0, 2, 0, 0, 2, 2, 1,\n",
       "       1, 0, 2, 0, 0, 1, 1, 3, 1, 3, 0, 2, 2, 1, 2, 1, 3, 3, 2, 2, 0, 0,\n",
       "       0, 2, 1, 3, 0, 1, 0, 3, 3, 3, 2, 2, 2, 2, 0, 0, 3, 3, 1, 3, 3, 3,\n",
       "       0, 3, 2, 0, 0, 3, 1, 1, 0, 2, 3, 2, 2, 2, 1, 1, 2, 0, 0, 2, 0, 1,\n",
       "       0, 1, 3, 0, 1, 3, 1, 3, 1, 0, 1, 1, 0, 3, 2, 2, 3, 3, 3, 1, 1, 0,\n",
       "       0, 1, 0, 2, 1, 2, 2, 1, 1, 3, 1, 2, 0, 0, 1, 2, 3, 0, 2, 2, 3, 0,\n",
       "       1, 3, 1, 2, 0, 0, 1, 1, 3, 2, 0, 1, 0, 3, 3, 0, 3, 1, 1, 3, 3, 2,\n",
       "       1, 3, 2, 2, 2, 1, 1, 2, 0, 3, 0, 2, 0, 0, 2, 1, 0, 0, 0, 0, 0, 3,\n",
       "       0, 3, 3, 2, 3, 0, 2, 1, 1, 3, 1, 1, 1, 2, 3, 2, 3, 1, 2, 1, 0, 1,\n",
       "       3, 1, 0, 2, 1, 3, 1, 0, 0, 1, 0, 3, 0, 0, 0, 0, 2, 1, 2, 3, 3, 3,\n",
       "       1, 0, 1, 1, 1, 3, 2, 0, 0, 2, 0, 1, 2, 0, 0, 0, 2, 3, 2, 2, 1, 2,\n",
       "       2, 3, 3, 2, 1, 2, 2, 2, 1, 2, 3, 3, 3, 1, 1, 0, 0, 0, 2, 0, 1, 2,\n",
       "       3, 1, 3, 0, 1, 0, 0, 1, 3, 1, 2, 1, 3, 2, 0, 1, 2, 2, 3, 0, 0, 2,\n",
       "       3, 2, 1, 0, 0, 2, 3, 0, 1, 1, 2, 0, 1, 0, 3, 0, 2, 2, 0, 2, 3, 0,\n",
       "       0, 1, 0, 1, 1, 3, 2, 1, 3, 0, 1, 0, 1, 2, 3, 2, 3, 1, 3, 1, 0, 3,\n",
       "       3, 0, 2, 1, 2, 3, 0, 2, 2, 1, 1, 0, 1, 2, 3, 3, 0, 2, 1, 0, 2, 3,\n",
       "       1, 3, 0, 3, 1, 3, 0, 0, 3, 3, 2, 1, 3, 3, 2, 1, 0, 2, 1, 3, 3, 3,\n",
       "       1, 2, 1, 2, 2, 2, 0, 3, 1, 3, 1, 2, 1, 1, 3, 3, 1, 0, 2, 3, 3, 0,\n",
       "       0, 0, 2, 3, 1, 0, 2, 0, 3, 3, 3, 2, 0, 1, 0, 2, 0, 1, 1, 0, 3, 3,\n",
       "       1, 3, 2, 0, 3, 2, 3, 0, 2, 0, 2, 2, 2, 1, 1, 0, 2, 0, 2, 1, 0, 0,\n",
       "       2, 0, 1, 0, 1, 0, 2, 1, 2, 0, 3, 2, 3, 2, 1, 0])"
      ]
     },
     "execution_count": 49,
     "metadata": {},
     "output_type": "execute_result"
    }
   ],
   "source": [
    "predicted_price6=rfc.predict(x_test)\n",
    "predicted_price6"
   ]
  },
  {
   "cell_type": "code",
   "execution_count": 50,
   "id": "fc9b6623",
   "metadata": {},
   "outputs": [],
   "source": [
    "def get_user_inputs():\n",
    "    screen_size = float(input(\"Enter screen size (in inches): \"))\n",
    "    battery_capacity = float(input(\"Enter battery capacity (in mAh): \"))\n",
    "    internal_storage = int(input(\"Enter internal storage (in GB): \"))\n",
    "    camera_quality = int(input(\"Enter camera quality (in MP): \"))\n",
    "    return [screen_size, battery_capacity, internal_storage, camera_quality,]"
   ]
  },
  {
   "cell_type": "code",
   "execution_count": null,
   "id": "3d338193",
   "metadata": {},
   "outputs": [],
   "source": [
    "user_inputs = get_user_inputs()"
   ]
  },
  {
   "cell_type": "code",
   "execution_count": null,
   "id": "27bed676",
   "metadata": {},
   "outputs": [],
   "source": [
    "user_inputs = np.array(user_inputs).reshape(1, -1)"
   ]
  },
  {
   "cell_type": "code",
   "execution_count": null,
   "id": "b9548a48",
   "metadata": {},
   "outputs": [],
   "source": [
    "from sklearn.preprocessing import PolynomialFeatures\n",
    "degree = 2 \n",
    "poly = PolynomialFeatures(degree)\n",
    "user_input = poly.fit_transform(user_inputs)"
   ]
  },
  {
   "cell_type": "code",
   "execution_count": null,
   "id": "4956b3f7",
   "metadata": {},
   "outputs": [],
   "source": [
    "predicted_price_range = dtc.predict(user_input)"
   ]
  },
  {
   "cell_type": "code",
   "execution_count": null,
   "id": "d0f05459",
   "metadata": {},
   "outputs": [],
   "source": [
    "if predicted_price_range == 0:\n",
    "    print(\"Predicted Price Range: Very Low\")\n",
    "elif predicted_price_range == 1:\n",
    "    print(\"Predicted Price Range: Low\")\n",
    "elif predicted_price_range == 2:\n",
    "    print(\"Predicted Price Range: Medium\")\n",
    "elif predicted_price_range == 3:\n",
    "    print(\"Predicted Price Range: High\")    \n",
    "else:\n",
    "    print(\"Invalid price range prediction.\")"
   ]
  }
 ],
 "metadata": {
  "kernelspec": {
   "display_name": "Python 3 (ipykernel)",
   "language": "python",
   "name": "python3"
  },
  "language_info": {
   "codemirror_mode": {
    "name": "ipython",
    "version": 3
   },
   "file_extension": ".py",
   "mimetype": "text/x-python",
   "name": "python",
   "nbconvert_exporter": "python",
   "pygments_lexer": "ipython3",
   "version": "3.9.12"
  }
 },
 "nbformat": 4,
 "nbformat_minor": 5
}
